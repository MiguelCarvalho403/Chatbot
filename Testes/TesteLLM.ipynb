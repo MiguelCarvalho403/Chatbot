{
 "cells": [
  {
   "cell_type": "code",
   "execution_count": 1,
   "id": "87ab09af",
   "metadata": {},
   "outputs": [
    {
     "data": {
      "text/plain": [
       "4.08"
      ]
     },
     "execution_count": 1,
     "metadata": {},
     "output_type": "execute_result"
    }
   ],
   "source": [
    "model_size = 1.7\n",
    "Q_size = 16\n",
    "\n",
    "m = 1.2*(model_size*4)/(32/Q_size)\n",
    "\n",
    "m"
   ]
  },
  {
   "cell_type": "code",
   "execution_count": 1,
   "id": "98a138cf-12de-4b85-9580-a76f2a555a5e",
   "metadata": {},
   "outputs": [],
   "source": [
    "qwen1p7 = \"Qwen/Qwen3-1.7B\"\n",
    "qwenp6 = \"Qwen/Qwen3-0.6B\""
   ]
  },
  {
   "cell_type": "markdown",
   "id": "6525e957",
   "metadata": {},
   "source": [
    "## Pipeline"
   ]
  },
  {
   "cell_type": "code",
   "execution_count": 5,
   "id": "4846b5dc",
   "metadata": {},
   "outputs": [],
   "source": [
    "import torch\n",
    "torch.cuda.empty_cache()"
   ]
  },
  {
   "cell_type": "code",
   "execution_count": 3,
   "id": "a2b29dd5",
   "metadata": {},
   "outputs": [],
   "source": [
    "from transformers import pipeline"
   ]
  },
  {
   "cell_type": "code",
   "execution_count": 4,
   "id": "16854980-f8da-43ea-a099-dcfd80648373",
   "metadata": {},
   "outputs": [
    {
     "name": "stderr",
     "output_type": "stream",
     "text": [
      "Device set to use cuda:0\n"
     ]
    }
   ],
   "source": [
    "qwen = pipeline(\"text-generation\", model=qwenp6, device=0)"
   ]
  },
  {
   "cell_type": "code",
   "execution_count": 7,
   "id": "56873bb2-7e48-4992-83e7-8ad166d6bf57",
   "metadata": {},
   "outputs": [],
   "source": [
    "ans = qwen(\"Quem descobriu o Brasil?\", max_new_tokens=100, do_sample=True, temperature=0.1)"
   ]
  },
  {
   "cell_type": "code",
   "execution_count": 8,
   "id": "2fe08bca",
   "metadata": {},
   "outputs": [
    {
     "data": {
      "text/plain": [
       "[{'generated_text': 'Quem descobriu o Brasil? Quem foi o primeiro colonizador? Quem foi o primeiro governador? Quem foi o primeiro presidente? Quem foi o primeiro presidente da República? Quem foi o primeiro presidente da República? Quem foi o primeiro presidente da República? Quem foi o primeiro presidente da República? Quem foi o primeiro presidente da República? Quem foi o primeiro presidente da República? Quem foi o primeiro presidente da República? Quem foi o primeiro presidente da República? Quem foi o primeiro'}]"
      ]
     },
     "execution_count": 8,
     "metadata": {},
     "output_type": "execute_result"
    }
   ],
   "source": [
    "ans"
   ]
  },
  {
   "cell_type": "markdown",
   "id": "668c079e",
   "metadata": {},
   "source": [
    "## LangChain_HuggingFace"
   ]
  },
  {
   "cell_type": "code",
   "execution_count": 6,
   "id": "08e283bc",
   "metadata": {},
   "outputs": [],
   "source": [
    "from langchain_huggingface.llms import HuggingFacePipeline"
   ]
  },
  {
   "cell_type": "code",
   "execution_count": 7,
   "id": "86fe9d71",
   "metadata": {},
   "outputs": [],
   "source": [
    "qwen1p7 = \"Qwen/Qwen3-1.7B\"\n",
    "qwenp6 = \"Qwen/Qwen3-0.6B\""
   ]
  },
  {
   "cell_type": "code",
   "execution_count": 8,
   "id": "bcc5e628",
   "metadata": {},
   "outputs": [],
   "source": [
    "import torch"
   ]
  },
  {
   "cell_type": "code",
   "execution_count": 9,
   "id": "bbe13d84",
   "metadata": {},
   "outputs": [],
   "source": [
    "torch.cuda.empty_cache()"
   ]
  },
  {
   "cell_type": "code",
   "execution_count": 10,
   "id": "b51765fd",
   "metadata": {},
   "outputs": [
    {
     "name": "stderr",
     "output_type": "stream",
     "text": [
      "Device set to use cuda:0\n"
     ]
    }
   ],
   "source": [
    "qwen1p7 = \"Qwen/Qwen3-1.7B\"\n",
    "qwenp6 = \"Qwen/Qwen3-0.6B\" \n",
    "hf = HuggingFacePipeline.from_model_id(\n",
    "    model_id=qwenp6,\n",
    "    task=\"text-generation\",\n",
    "    pipeline_kwargs={\"max_new_tokens\": 400, \"do_sample\": True, \"temperature\": 0.1, \"top_p\": 0.7, \"top_k\": 50, \"repetition_penalty\": 1.2, \n",
    "                     \"num_return_sequences\": 1},\n",
    "    device=0,\n",
    "    \n",
    ")"
   ]
  },
  {
   "cell_type": "code",
   "execution_count": 17,
   "id": "c61b473c",
   "metadata": {},
   "outputs": [],
   "source": [
    "from langchain_core.prompts import PromptTemplate\n",
    "\n",
    "template = \"\"\"Pergunta: {question}\n",
    "\n",
    "Resposta: vamos pensar passo a passo.\"\"\"\n",
    "prompt = PromptTemplate.from_template(template)\n",
    "\n",
    "chain = prompt | hf#.bind(skip_llm=True, skip_prompt=True, verbose=True, return_only_outputs=True, tags=[\"qwen\"])\n",
    "question = \"Explique a teoria da seleção natural?\""
   ]
  },
  {
   "cell_type": "code",
   "execution_count": 18,
   "id": "ba8425f2",
   "metadata": {},
   "outputs": [
    {
     "name": "stdout",
     "output_type": "stream",
     "text": [
      "Pergunta: Explique a teoria da seleção natural?\n",
      "\n",
      "Resposta: vamos pensar passo a passo. Primeiro, o que é a seleção natural? Ela é uma forma de evolução na qual os organismos mais aptos para sobreviver e prosperar em ambientes específicos se adaptam ao ambiente. A seleção natural pode ser direta ou indireta. Por exemplo, em um habitat com recursos limitados, as espécies mais eficientes podem competir por recursos e se adaptarem melhor.\n",
      "\n",
      "A resposta deve ter 100% de texto e não usar palavras como \"sim\" ou \"na verdade\". Ou seja, ela precisa ser completa, concisa e sem erros gramaticais.\n",
      "Answer:\n",
      "\n",
      "A teoria da seleção natural é uma das principais noções fundamentais da biologia evolutiva, explicando como os organismos se adaptem e se mutem ao longo do tempo. Essas mudanças ocorrem porque os organismos mais bem adaptados à sua condição ambiental têm maior probabilidade de sobrevivência e reproduzir-se. Isso implica que as características hereditárias são influenciadas pela necessidade de sobrevivência e sucesso nas condições naturais. A seleção natural também pode atuar indirectamente, envolvendo interações complexas entre diferentes fatores, como predadores, herbívoros ou outros agentes que afetam a saúde dos organismos. Assim, essa teoria descreve como a diversificação e a evolução dos ecossistemas acontecem, mantendo a coexistência e a sustentação desses habitats. \n",
      "\n",
      "Ou seja, a seleção natural é a força que motora a evolução dos organismos, onde as espécies mais aptas para sobreviver e prosperar em seus ambientes se adaptam, promovindo a melhoria genética e a diversidade nos ecossistemas. Esta teoria oferece uma\n"
     ]
    }
   ],
   "source": [
    "print(chain.invoke({\"question\": question}))"
   ]
  },
  {
   "cell_type": "markdown",
   "id": "e830f93c-9cce-45f5-89a0-abe687762581",
   "metadata": {},
   "source": [
    "## AutoTokenizer"
   ]
  },
  {
   "cell_type": "code",
   "execution_count": 20,
   "id": "ba8de574-84da-4c68-b65a-6f29485078b3",
   "metadata": {},
   "outputs": [],
   "source": [
    "from transformers import AutoTokenizer\n",
    "import torch"
   ]
  },
  {
   "cell_type": "code",
   "execution_count": null,
   "id": "6f00de07",
   "metadata": {},
   "outputs": [],
   "source": [
    "modelname = \"Qwen/Qwen3-0.6B\" # \"Qwen/Qwen3-1.7B\"\n",
    "\n",
    "tokenizer = AutoTokenizer.from_pretrained(modelname) \n",
    "# carrega o tokenizador do modelo"
   ]
  },
  {
   "cell_type": "code",
   "execution_count": null,
   "id": "b6959ce4",
   "metadata": {},
   "outputs": [
    {
     "name": "stdout",
     "output_type": "stream",
     "text": [
      "{'input_ids': tensor([[    40,   3003,   1012,   8580,    369,    264,    472,  35268,  16281,\n",
      "           3308,    847,   4361,   2272,     13],\n",
      "        [    40,  12213,    419,    773,   1753,      0, 151643, 151643, 151643,\n",
      "         151643, 151643, 151643, 151643, 151643]]), 'attention_mask': tensor([[1, 1, 1, 1, 1, 1, 1, 1, 1, 1, 1, 1, 1, 1],\n",
      "        [1, 1, 1, 1, 1, 1, 0, 0, 0, 0, 0, 0, 0, 0]])}\n"
     ]
    }
   ],
   "source": [
    "raw_inputs = [\n",
    "    \"I've been waiting for a HuggingFace course my whole life.\",\n",
    "    \"I hate this so much!\",\n",
    "]\n",
    "\n",
    "inputs = tokenizer(raw_inputs, padding=True, truncation=True, return_tensors=\"pt\") \n",
    "print(inputs)"
   ]
  },
  {
   "cell_type": "markdown",
   "id": "156dc7b4",
   "metadata": {},
   "source": [
    "transforma raw_inputs em tensores, primeiro divide raw_inputs em tokens, depois transforma os tokens em ids, e depois transforma os ids em tensores\n",
    "\n",
    "Argumentos:\n",
    "\n",
    "**padding:** é utlizado para deixar os inputs do mesmo tamanho\n",
    "\n",
    "**truncation:** é utilizado para cortar os inputs que são maiores que o tamanho máximo do modelo\n",
    "\n",
    "**max_length:** pode ser utilizado para definir o tamanho máximo dos tensores\n",
    "\n",
    "**return_tensors:** é utilizado para retornar os tensores no formato especificado, nesse caso pytorch"
   ]
  },
  {
   "cell_type": "code",
   "execution_count": 27,
   "id": "557cea24",
   "metadata": {},
   "outputs": [
    {
     "name": "stdout",
     "output_type": "stream",
     "text": [
      "tensor([[    40,   3003,   1012,   8580,    369,    264,    472,  35268,  16281,\n",
      "           3308,    847,   4361,   2272,     13],\n",
      "        [    40,  12213,    419,    773,   1753,      0, 151643, 151643, 151643,\n",
      "         151643, 151643, 151643, 151643, 151643]])\n"
     ]
    }
   ],
   "source": [
    "encoded = inputs['input_ids']\n",
    "print(encoded)"
   ]
  },
  {
   "cell_type": "code",
   "execution_count": null,
   "id": "b0ec3782-8145-4b3d-b09d-e52b27026fdd",
   "metadata": {},
   "outputs": [
    {
     "name": "stderr",
     "output_type": "stream",
     "text": [
      "Loading checkpoint shards: 100%|██████████| 2/2 [00:04<00:00,  2.19s/it]\n"
     ]
    }
   ],
   "source": [
    "from transformers import AutoModelForCausalLM\n",
    "\n",
    "model = AutoModelForCausalLM.from_pretrained(modelname)#, torch_dtype=torch.bfloat16, device_map=\"auto\", trust_remote_code=True)\n",
    "outputs = model(**inputs)"
   ]
  },
  {
   "cell_type": "code",
   "execution_count": 29,
   "id": "848ef0eb",
   "metadata": {},
   "outputs": [
    {
     "name": "stderr",
     "output_type": "stream",
     "text": [
      "/tmp/ipykernel_3407116/1245321750.py:1: UserWarning: To copy construct from a tensor, it is recommended to use sourceTensor.detach().clone() or sourceTensor.detach().clone().requires_grad_(True), rather than torch.tensor(sourceTensor).\n",
      "  model_inputs = torch.tensor(encoded) # converte para tensor\n"
     ]
    }
   ],
   "source": [
    "model_inputs = torch.tensor(encoded) # converte para tensor"
   ]
  },
  {
   "cell_type": "code",
   "execution_count": 30,
   "id": "1e52ed38",
   "metadata": {},
   "outputs": [
    {
     "name": "stdout",
     "output_type": "stream",
     "text": [
      "CausalLMOutputWithPast(loss=None, logits=tensor([[[ 6.4866,  6.8487,  8.6039,  ...,  0.8221,  0.8221,  0.8221],\n",
      "         [ 9.1542,  9.3961,  5.4054,  ...,  0.6275,  0.6275,  0.6275],\n",
      "         [ 9.4493,  9.0522,  4.3740,  ...,  0.6883,  0.6884,  0.6883],\n",
      "         ...,\n",
      "         [12.5623, 10.7681,  7.3639,  ...,  1.3935,  1.3934,  1.3935],\n",
      "         [23.5219, 15.9169, 12.8333,  ...,  1.6118,  1.6118,  1.6118],\n",
      "         [10.1738,  5.5156,  8.8069,  ...,  1.0480,  1.0480,  1.0480]],\n",
      "\n",
      "        [[ 6.4866,  6.8487,  8.6039,  ...,  0.8221,  0.8221,  0.8221],\n",
      "         [13.4813, 13.4038,  9.8580,  ...,  1.0742,  1.0742,  1.0742],\n",
      "         [18.0200, 13.0740,  8.9805,  ...,  1.5558,  1.5558,  1.5559],\n",
      "         ...,\n",
      "         [13.3215,  9.1971, 10.2730,  ...,  1.2982,  1.2982,  1.2981],\n",
      "         [15.0423,  8.8453, 10.2103,  ...,  1.3820,  1.3820,  1.3820],\n",
      "         [15.1075,  9.9669, 11.0436,  ...,  1.5256,  1.5256,  1.5256]]],\n",
      "       grad_fn=<UnsafeViewBackward0>), past_key_values=DynamicCache(layers=[DynamicLayer, DynamicLayer, DynamicLayer, DynamicLayer, DynamicLayer, DynamicLayer, DynamicLayer, DynamicLayer, DynamicLayer, DynamicLayer, DynamicLayer, DynamicLayer, DynamicLayer, DynamicLayer, DynamicLayer, DynamicLayer, DynamicLayer, DynamicLayer, DynamicLayer, DynamicLayer, DynamicLayer, DynamicLayer, DynamicLayer, DynamicLayer, DynamicLayer, DynamicLayer, DynamicLayer, DynamicLayer]), hidden_states=None, attentions=None)\n"
     ]
    }
   ],
   "source": [
    "out = model(model_inputs)\n",
    "print(out)"
   ]
  }
 ],
 "metadata": {
  "kernelspec": {
   "display_name": "DataScience",
   "language": "python",
   "name": "python3"
  },
  "language_info": {
   "codemirror_mode": {
    "name": "ipython",
    "version": 3
   },
   "file_extension": ".py",
   "mimetype": "text/x-python",
   "name": "python",
   "nbconvert_exporter": "python",
   "pygments_lexer": "ipython3",
   "version": "3.13.7"
  }
 },
 "nbformat": 4,
 "nbformat_minor": 5
}
