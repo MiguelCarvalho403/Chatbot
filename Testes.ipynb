{
 "cells": [
  {
   "cell_type": "markdown",
   "id": "9edb0deb-9023-4ef0-8b73-7d9a50981ed2",
   "metadata": {},
   "source": [
    "## API Request"
   ]
  },
  {
   "cell_type": "code",
   "execution_count": 97,
   "id": "baec438c-9675-4c78-aaf4-2496edb6bd7f",
   "metadata": {},
   "outputs": [],
   "source": [
    "import requests"
   ]
  },
  {
   "cell_type": "code",
   "execution_count": 130,
   "id": "fce175d6-c4e5-4ada-a890-18a7a5831516",
   "metadata": {},
   "outputs": [],
   "source": [
    "headers = {\"chave-api-dados\" : \"d1a18f481606ca1797e32ef53c29c63a\"} # {\"key\":\"chave-api-dados\",\"value\":\"d1a18f481606ca1797e32ef53c29c63a\"}"
   ]
  },
  {
   "cell_type": "code",
   "execution_count": 195,
   "id": "04c9b4c7-bd38-4ceb-ab89-23a92f8e2366",
   "metadata": {},
   "outputs": [
    {
     "data": {
      "text/plain": [
       "'https://dados.gov.br/api/3/action/package_list'"
      ]
     },
     "execution_count": 195,
     "metadata": {},
     "output_type": "execute_result"
    }
   ],
   "source": [
    "id_conjunto = \"auxilio-emergencial-por-municipio\"\n",
    "url = \"http://api.portaldatransparencia.gov.br/api-de-dados/\" + id_conjunto\n",
    "url = \"https://dados.gov.br/api/3/action/package_list\"\n",
    "params_emendas = {\n",
    "    \"ano\": 2024,  # Exemplo de filtro por ano\n",
    "    \"cidade\": -1,\n",
    "    \"pagina\": 1   # Página inicial\n",
    "}\n",
    "url"
   ]
  },
  {
   "cell_type": "code",
   "execution_count": 196,
   "id": "28dcb2df-b998-4984-9824-f50f4321bc79",
   "metadata": {},
   "outputs": [
    {
     "data": {
      "text/plain": [
       "<Response [200]>"
      ]
     },
     "execution_count": 196,
     "metadata": {},
     "output_type": "execute_result"
    }
   ],
   "source": [
    "rq = requests.get(url, params=params_emendas, headers=headers)\n",
    "rq"
   ]
  },
  {
   "cell_type": "code",
   "execution_count": 198,
   "id": "df90dfb3-f2b4-40e3-886a-cee5f0b7e8b2",
   "metadata": {},
   "outputs": [
    {
     "data": {
      "text/plain": [
       "'<!DOCTYPE html><html><head><script>(function(w,d,s,l,i){w[l]=w[l]||[];w[l].push({\\'gtm.start\\':\\n              new Date().getTime(),event:\\'gtm.js\\'});var f=d.getElementsByTagName(s)[0],\\n            j=d.createElement(s),dl=l!=\\'dataLayer\\'?\\'&l=\\'+l:\\'\\';j.async=true;j.src=\\n            \\'https://www.googletagmanager.com/gtm.js?id=\\'+i+dl;f.parentNode.insertBefore(j,f);\\n    })(window,document,\\'script\\',\\'dataLayer\\',\\'GTM-KCSRLH2P\\');</script><script>(function(w,d,s,l,i){w[l]=w[l]||[];w[l].push({\\'gtm.start\\':\\n              new Date().getTime(),event:\\'gtm.js\\'});var f=d.getElementsByTagName(s)[0],\\n            j=d.createElement(s),dl=l!=\\'dataLayer\\'?\\'&l=\\'+l:\\'\\';j.async=true;j.src=\\n            \\'https://www.googletagmanager.com/gtm.js?id=\\'+i+dl;f.parentNode.insertBefore(j,f);\\n    })(window,document,\\'script\\',\\'dataLayer\\',\\'GTM-PWDNGXV9\\');</script><meta charset=\"utf-8\"><meta http-equiv=\"X-UA-Compatible\" content=\"IE=edge\"><meta name=\"viewport\" content=\"width=device-width,initial-scale=1\"><base href=\"/\"><link rel=\"shortcut icon\" href=\"img/favicon-32x32.png\" type=\"image/x-icon\"><meta name=\"format-detection\" content=\"telephone=no\"><title>Portal de Dados Abertos</title><link href=\"/static/css/chunk-0a22edd2.a7a99686.css\" rel=\"prefetch\"><link href=\"/static/css/chunk-0d8b2d42.ecd6b5e7.css\" rel=\"prefetch\"><link href=\"/static/css/chunk-0fe3f68f.756d5dc5.css\" rel=\"prefetch\"><link href=\"/static/css/chunk-1281cb9e.f1d3eec1.css\" rel=\"prefetch\"><link href=\"/static/css/chunk-13d0055b.5578bbdc.css\" rel=\"prefetch\"><link href=\"/static/css/chunk-165f99d0.b9218d02.css\" rel=\"prefetch\"><link href=\"/static/css/chunk-1c11f7e4.01204633.css\" rel=\"prefetch\"><link href=\"/static/css/chunk-1c27e6de.47345067.css\" rel=\"prefetch\"><link href=\"/static/css/chunk-1c8915ee.a1b8936c.css\" rel=\"prefetch\"><link href=\"/static/css/chunk-1ddbfc74.a2b2f050.css\" rel=\"prefetch\"><link href=\"/static/css/chunk-21c1d6d6.f881cc08.css\" rel=\"prefetch\"><link href=\"/static/css/chunk-2b4737f5.84652b5d.css\" rel=\"prefetch\"><link href=\"/static/css/chunk-2c85568c.ddfdf53c.css\" rel=\"prefetch\"><link href=\"/static/css/chunk-36b6fc62.ecd6b5e7.css\" rel=\"prefetch\"><link href=\"/static/css/chunk-3d9b186e.774a151b.css\" rel=\"prefetch\"><link href=\"/static/css/chunk-4431031a.ee9ab09d.css\" rel=\"prefetch\"><link href=\"/static/css/chunk-45759a54.a2b2f050.css\" rel=\"prefetch\"><link href=\"/static/css/chunk-4783a0fc.1247d99e.css\" rel=\"prefetch\"><link href=\"/static/css/chunk-494b897d.0a8f08a1.css\" rel=\"prefetch\"><link href=\"/static/css/chunk-49c7dd63.ac8e8509.css\" rel=\"prefetch\"><link href=\"/static/css/chunk-4be0c52c.0ce75658.css\" rel=\"prefetch\"><link href=\"/static/css/chunk-4e9a8fae.7441b56d.css\" rel=\"prefetch\"><link href=\"/static/css/chunk-522472a1.01a0e644.css\" rel=\"prefetch\"><link href=\"/static/css/chunk-57d79847.3f050ef5.css\" rel=\"prefetch\"><link href=\"/static/css/chunk-59a978de.d7456cf8.css\" rel=\"prefetch\"><link href=\"/static/css/chunk-5e875dce.dcfc1cbd.css\" rel=\"prefetch\"><link href=\"/static/css/chunk-5f1ed271.7ff61078.css\" rel=\"prefetch\"><link href=\"/static/css/chunk-62b64667.2e0f235e.css\" rel=\"prefetch\"><link href=\"/static/css/chunk-631a9b69.c9b24446.css\" rel=\"prefetch\"><link href=\"/static/css/chunk-67868238.f33e87d3.css\" rel=\"prefetch\"><link href=\"/static/css/chunk-67fc5bca.1ecdd28c.css\" rel=\"prefetch\"><link href=\"/static/css/chunk-698d3a53.a7c4142f.css\" rel=\"prefetch\"><link href=\"/static/css/chunk-6d1b54b5.3a93526a.css\" rel=\"prefetch\"><link href=\"/static/css/chunk-7185ba76.b712d122.css\" rel=\"prefetch\"><link href=\"/static/css/chunk-7273ba88.fda50412.css\" rel=\"prefetch\"><link href=\"/static/css/chunk-72bf3f6b.7f6f9213.css\" rel=\"prefetch\"><link href=\"/static/css/chunk-740678e8.5a549a2f.css\" rel=\"prefetch\"><link href=\"/static/css/chunk-75e3b53e.079cd6b7.css\" rel=\"prefetch\"><link href=\"/static/css/chunk-7acc371e.ecd6b5e7.css\" rel=\"prefetch\"><link href=\"/static/css/chunk-7e3a35bc.abd64d85.css\" rel=\"prefetch\"><link href=\"/static/css/chunk-80370622.9b565a1b.css\" rel=\"prefetch\"><link href=\"/static/css/chunk-935863d4.ecd6b5e7.css\" rel=\"prefetch\"><link href=\"/static/css/chunk-9af441e0.b73d6e19.css\" rel=\"prefetch\"><link href=\"/static/css/chunk-9d51704e.7c3ff8be.css\" rel=\"prefetch\"><link href=\"/static/css/chunk-c9d889ae.d1bdd4e7.css\" rel=\"prefetch\"><link href=\"/static/css/chunk-dcd49860.ecd6b5e7.css\" rel=\"prefetch\"><link href=\"/static/css/chunk-dfcd3be0.b6576584.css\" rel=\"prefetch\"><link href=\"/static/css/chunk-f4d9c2e8.b5d4c181.css\" rel=\"prefetch\"><link href=\"/static/css/chunk-fd94108a.3f050ef5.css\" rel=\"prefetch\"><link href=\"/static/js/chunk-0a22edd2.04ea5230.js\" rel=\"prefetch\"><link href=\"/static/js/chunk-0d8b2d42.6e2d740b.js\" rel=\"prefetch\"><link href=\"/static/js/chunk-0fe3f68f.10a77333.js\" rel=\"prefetch\"><link href=\"/static/js/chunk-1281cb9e.dcda969b.js\" rel=\"prefetch\"><link href=\"/static/js/chunk-13d0055b.7dd2cbdf.js\" rel=\"prefetch\"><link href=\"/static/js/chunk-165f99d0.cb91ef3d.js\" rel=\"prefetch\"><link href=\"/static/js/chunk-1c11f7e4.5bdca597.js\" rel=\"prefetch\"><link href=\"/static/js/chunk-1c27e6de.3ddd00e3.js\" rel=\"prefetch\"><link href=\"/static/js/chunk-1c8915ee.2e6fd9e9.js\" rel=\"prefetch\"><link href=\"/static/js/chunk-1ddbfc74.bdf3f0f2.js\" rel=\"prefetch\"><link href=\"/static/js/chunk-21c1d6d6.930a3d3b.js\" rel=\"prefetch\"><link href=\"/static/js/chunk-2b4737f5.db071fd8.js\" rel=\"prefetch\"><link href=\"/static/js/chunk-2c85568c.e76368e6.js\" rel=\"prefetch\"><link href=\"/static/js/chunk-2d0a4493.49a0bc86.js\" rel=\"prefetch\"><link href=\"/static/js/chunk-2d0bddc2.f4ad88b7.js\" rel=\"prefetch\"><link href=\"/static/js/chunk-2d0c913f.ac42034b.js\" rel=\"prefetch\"><link href=\"/static/js/chunk-2d0cc2b3.623effff.js\" rel=\"prefetch\"><link href=\"/static/js/chunk-2d0d36d2.ae73d4da.js\" rel=\"prefetch\"><link href=\"/static/js/chunk-2d0d7a51.ae77319e.js\" rel=\"prefetch\"><link href=\"/static/js/chunk-2d0dddb4.fda1e2c1.js\" rel=\"prefetch\"><link href=\"/static/js/chunk-2d215c72.362d3efb.js\" rel=\"prefetch\"><link href=\"/static/js/chunk-2d216d7b.facde577.js\" rel=\"prefetch\"><link href=\"/static/js/chunk-2d21ef94.a9a8d1ea.js\" rel=\"prefetch\"><link href=\"/static/js/chunk-2d23118a.5f986a9f.js\" rel=\"prefetch\"><link href=\"/static/js/chunk-36b6fc62.6f69c240.js\" rel=\"prefetch\"><link href=\"/static/js/chunk-370846e4.1c021550.js\" rel=\"prefetch\"><link href=\"/static/js/chunk-3d9b186e.7511e3f4.js\" rel=\"prefetch\"><link href=\"/static/js/chunk-4431031a.dc184d1b.js\" rel=\"prefetch\"><link href=\"/static/js/chunk-45759a54.cbe116ac.js\" rel=\"prefetch\"><link href=\"/static/js/chunk-4783a0fc.593e76f9.js\" rel=\"prefetch\"><link href=\"/static/js/chunk-494b897d.f9babad6.js\" rel=\"prefetch\"><link href=\"/static/js/chunk-49c7dd63.d0f975cd.js\" rel=\"prefetch\"><link href=\"/static/js/chunk-4a5f46a6.701f7729.js\" rel=\"prefetch\"><link href=\"/static/js/chunk-4be0c52c.3fd769ac.js\" rel=\"prefetch\"><link href=\"/static/js/chunk-4e9a8fae.7084beef.js\" rel=\"prefetch\"><link href=\"/static/js/chunk-522472a1.f8113c70.js\" rel=\"prefetch\"><link href=\"/static/js/chunk-57d79847.5cb1066b.js\" rel=\"prefetch\"><link href=\"/static/js/chunk-59a978de.56f7212e.js\" rel=\"prefetch\"><link href=\"/static/js/chunk-5e875dce.3d0cb865.js\" rel=\"prefetch\"><link href=\"/static/js/chunk-5f1ed271.4ea3321d.js\" rel=\"prefetch\"><link href=\"/static/js/chunk-62b64667.9f5ba83c.js\" rel=\"prefetch\"><link href=\"/static/js/chunk-631a9b69.0ca011e1.js\" rel=\"prefetch\"><link href=\"/static/js/chunk-67868238.d4e52515.js\" rel=\"prefetch\"><link href=\"/static/js/chunk-67a52f65.462a832c.js\" rel=\"prefetch\"><link href=\"/static/js/chunk-67fc5bca.e65a35b0.js\" rel=\"prefetch\"><link href=\"/static/js/chunk-698d3a53.10843c5d.js\" rel=\"prefetch\"><link href=\"/static/js/chunk-6d1b54b5.04ba8591.js\" rel=\"prefetch\"><link href=\"/static/js/chunk-7185ba76.bc29b490.js\" rel=\"prefetch\"><link href=\"/static/js/chunk-7273ba88.cae4f275.js\" rel=\"prefetch\"><link href=\"/static/js/chunk-72bf3f6b.2dc56750.js\" rel=\"prefetch\"><link href=\"/static/js/chunk-740678e8.78909a86.js\" rel=\"prefetch\"><link href=\"/static/js/chunk-75e3b53e.2360ecd5.js\" rel=\"prefetch\"><link href=\"/static/js/chunk-7acc371e.92ef8729.js\" rel=\"prefetch\"><link href=\"/static/js/chunk-7e3a35bc.aafe7d20.js\" rel=\"prefetch\"><link href=\"/static/js/chunk-80370622.4ab64652.js\" rel=\"prefetch\"><link href=\"/static/js/chunk-935863d4.1118d06d.js\" rel=\"prefetch\"><link href=\"/static/js/chunk-9af441e0.ad88f792.js\" rel=\"prefetch\"><link href=\"/static/js/chunk-9d51704e.7bb98858.js\" rel=\"prefetch\"><link href=\"/static/js/chunk-c9d889ae.b629a221.js\" rel=\"prefetch\"><link href=\"/static/js/chunk-dcd49860.6c067e6d.js\" rel=\"prefetch\"><link href=\"/static/js/chunk-dfcd3be0.2f4977e1.js\" rel=\"prefetch\"><link href=\"/static/js/chunk-f4d9c2e8.3333872e.js\" rel=\"prefetch\"><link href=\"/static/js/chunk-fd94108a.93bd5fcb.js\" rel=\"prefetch\"><link href=\"/static/css/app.22f45083.css\" rel=\"preload\" as=\"style\"><link href=\"/static/css/chunk-vendors.cdda6749.css\" rel=\"preload\" as=\"style\"><link href=\"/static/js/app.3d48aaa2.js\" rel=\"preload\" as=\"script\"><link href=\"/static/js/chunk-vendors.ff3e7800.js\" rel=\"preload\" as=\"script\"><link href=\"/static/css/chunk-vendors.cdda6749.css\" rel=\"stylesheet\"><link href=\"/static/css/app.22f45083.css\" rel=\"stylesheet\"></head><body><noscript><iframe src=\"https://www.googletagmanager.com/ns.html?id=GTM-KCSRLH2P\" height=\"0\" width=\"0\" style=\"display:none;visibility:hidden\"></iframe></noscript><noscript><iframe src=\"https://www.googletagmanager.com/ns.html?id=GTM-PWDNGXV9\" height=\"0\" width=\"0\" style=\"display:none;visibility:hidden\"></iframe></noscript><noscript><strong>Essa pÃ¡gina requer javascript para funcionar corretamente.</strong></noscript><div id=\"app\"></div><script src=\"/static/js/chunk-vendors.ff3e7800.js\"></script><script src=\"/static/js/app.3d48aaa2.js\"></script></body></html>'"
      ]
     },
     "execution_count": 198,
     "metadata": {},
     "output_type": "execute_result"
    }
   ],
   "source": [
    "rq.text"
   ]
  },
  {
   "cell_type": "code",
   "execution_count": 197,
   "id": "281b36b5-15ec-4956-988a-c7f49ddc55a2",
   "metadata": {
    "scrolled": true
   },
   "outputs": [
    {
     "ename": "JSONDecodeError",
     "evalue": "Expecting value: line 1 column 1 (char 0)",
     "output_type": "error",
     "traceback": [
      "\u001b[31m---------------------------------------------------------------------------\u001b[39m",
      "\u001b[31mJSONDecodeError\u001b[39m                           Traceback (most recent call last)",
      "\u001b[36mFile \u001b[39m\u001b[32m~/miniforge3/envs/DataSc/lib/python3.13/site-packages/requests/models.py:976\u001b[39m, in \u001b[36mResponse.json\u001b[39m\u001b[34m(self, **kwargs)\u001b[39m\n\u001b[32m    975\u001b[39m \u001b[38;5;28;01mtry\u001b[39;00m:\n\u001b[32m--> \u001b[39m\u001b[32m976\u001b[39m     \u001b[38;5;28;01mreturn\u001b[39;00m \u001b[43mcomplexjson\u001b[49m\u001b[43m.\u001b[49m\u001b[43mloads\u001b[49m\u001b[43m(\u001b[49m\u001b[38;5;28;43mself\u001b[39;49m\u001b[43m.\u001b[49m\u001b[43mtext\u001b[49m\u001b[43m,\u001b[49m\u001b[43m \u001b[49m\u001b[43m*\u001b[49m\u001b[43m*\u001b[49m\u001b[43mkwargs\u001b[49m\u001b[43m)\u001b[49m\n\u001b[32m    977\u001b[39m \u001b[38;5;28;01mexcept\u001b[39;00m JSONDecodeError \u001b[38;5;28;01mas\u001b[39;00m e:\n\u001b[32m    978\u001b[39m     \u001b[38;5;66;03m# Catch JSON-related errors and raise as requests.JSONDecodeError\u001b[39;00m\n\u001b[32m    979\u001b[39m     \u001b[38;5;66;03m# This aliases json.JSONDecodeError and simplejson.JSONDecodeError\u001b[39;00m\n",
      "\u001b[36mFile \u001b[39m\u001b[32m~/miniforge3/envs/DataSc/lib/python3.13/json/__init__.py:346\u001b[39m, in \u001b[36mloads\u001b[39m\u001b[34m(s, cls, object_hook, parse_float, parse_int, parse_constant, object_pairs_hook, **kw)\u001b[39m\n\u001b[32m    343\u001b[39m \u001b[38;5;28;01mif\u001b[39;00m (\u001b[38;5;28mcls\u001b[39m \u001b[38;5;129;01mis\u001b[39;00m \u001b[38;5;28;01mNone\u001b[39;00m \u001b[38;5;129;01mand\u001b[39;00m object_hook \u001b[38;5;129;01mis\u001b[39;00m \u001b[38;5;28;01mNone\u001b[39;00m \u001b[38;5;129;01mand\u001b[39;00m\n\u001b[32m    344\u001b[39m         parse_int \u001b[38;5;129;01mis\u001b[39;00m \u001b[38;5;28;01mNone\u001b[39;00m \u001b[38;5;129;01mand\u001b[39;00m parse_float \u001b[38;5;129;01mis\u001b[39;00m \u001b[38;5;28;01mNone\u001b[39;00m \u001b[38;5;129;01mand\u001b[39;00m\n\u001b[32m    345\u001b[39m         parse_constant \u001b[38;5;129;01mis\u001b[39;00m \u001b[38;5;28;01mNone\u001b[39;00m \u001b[38;5;129;01mand\u001b[39;00m object_pairs_hook \u001b[38;5;129;01mis\u001b[39;00m \u001b[38;5;28;01mNone\u001b[39;00m \u001b[38;5;129;01mand\u001b[39;00m \u001b[38;5;129;01mnot\u001b[39;00m kw):\n\u001b[32m--> \u001b[39m\u001b[32m346\u001b[39m     \u001b[38;5;28;01mreturn\u001b[39;00m \u001b[43m_default_decoder\u001b[49m\u001b[43m.\u001b[49m\u001b[43mdecode\u001b[49m\u001b[43m(\u001b[49m\u001b[43ms\u001b[49m\u001b[43m)\u001b[49m\n\u001b[32m    347\u001b[39m \u001b[38;5;28;01mif\u001b[39;00m \u001b[38;5;28mcls\u001b[39m \u001b[38;5;129;01mis\u001b[39;00m \u001b[38;5;28;01mNone\u001b[39;00m:\n",
      "\u001b[36mFile \u001b[39m\u001b[32m~/miniforge3/envs/DataSc/lib/python3.13/json/decoder.py:345\u001b[39m, in \u001b[36mJSONDecoder.decode\u001b[39m\u001b[34m(self, s, _w)\u001b[39m\n\u001b[32m    341\u001b[39m \u001b[38;5;250m\u001b[39m\u001b[33;03m\"\"\"Return the Python representation of ``s`` (a ``str`` instance\u001b[39;00m\n\u001b[32m    342\u001b[39m \u001b[33;03mcontaining a JSON document).\u001b[39;00m\n\u001b[32m    343\u001b[39m \n\u001b[32m    344\u001b[39m \u001b[33;03m\"\"\"\u001b[39;00m\n\u001b[32m--> \u001b[39m\u001b[32m345\u001b[39m obj, end = \u001b[38;5;28;43mself\u001b[39;49m\u001b[43m.\u001b[49m\u001b[43mraw_decode\u001b[49m\u001b[43m(\u001b[49m\u001b[43ms\u001b[49m\u001b[43m,\u001b[49m\u001b[43m \u001b[49m\u001b[43midx\u001b[49m\u001b[43m=\u001b[49m\u001b[43m_w\u001b[49m\u001b[43m(\u001b[49m\u001b[43ms\u001b[49m\u001b[43m,\u001b[49m\u001b[43m \u001b[49m\u001b[32;43m0\u001b[39;49m\u001b[43m)\u001b[49m\u001b[43m.\u001b[49m\u001b[43mend\u001b[49m\u001b[43m(\u001b[49m\u001b[43m)\u001b[49m\u001b[43m)\u001b[49m\n\u001b[32m    346\u001b[39m end = _w(s, end).end()\n",
      "\u001b[36mFile \u001b[39m\u001b[32m~/miniforge3/envs/DataSc/lib/python3.13/json/decoder.py:363\u001b[39m, in \u001b[36mJSONDecoder.raw_decode\u001b[39m\u001b[34m(self, s, idx)\u001b[39m\n\u001b[32m    362\u001b[39m \u001b[38;5;28;01mexcept\u001b[39;00m \u001b[38;5;167;01mStopIteration\u001b[39;00m \u001b[38;5;28;01mas\u001b[39;00m err:\n\u001b[32m--> \u001b[39m\u001b[32m363\u001b[39m     \u001b[38;5;28;01mraise\u001b[39;00m JSONDecodeError(\u001b[33m\"\u001b[39m\u001b[33mExpecting value\u001b[39m\u001b[33m\"\u001b[39m, s, err.value) \u001b[38;5;28;01mfrom\u001b[39;00m\u001b[38;5;250m \u001b[39m\u001b[38;5;28;01mNone\u001b[39;00m\n\u001b[32m    364\u001b[39m \u001b[38;5;28;01mreturn\u001b[39;00m obj, end\n",
      "\u001b[31mJSONDecodeError\u001b[39m: Expecting value: line 1 column 1 (char 0)",
      "\nDuring handling of the above exception, another exception occurred:\n",
      "\u001b[31mJSONDecodeError\u001b[39m                           Traceback (most recent call last)",
      "\u001b[36mCell\u001b[39m\u001b[36m \u001b[39m\u001b[32mIn[197]\u001b[39m\u001b[32m, line 1\u001b[39m\n\u001b[32m----> \u001b[39m\u001b[32m1\u001b[39m \u001b[43mrq\u001b[49m\u001b[43m.\u001b[49m\u001b[43mjson\u001b[49m\u001b[43m(\u001b[49m\u001b[43m)\u001b[49m[\u001b[32m0\u001b[39m].keys()\n",
      "\u001b[36mFile \u001b[39m\u001b[32m~/miniforge3/envs/DataSc/lib/python3.13/site-packages/requests/models.py:980\u001b[39m, in \u001b[36mResponse.json\u001b[39m\u001b[34m(self, **kwargs)\u001b[39m\n\u001b[32m    976\u001b[39m     \u001b[38;5;28;01mreturn\u001b[39;00m complexjson.loads(\u001b[38;5;28mself\u001b[39m.text, **kwargs)\n\u001b[32m    977\u001b[39m \u001b[38;5;28;01mexcept\u001b[39;00m JSONDecodeError \u001b[38;5;28;01mas\u001b[39;00m e:\n\u001b[32m    978\u001b[39m     \u001b[38;5;66;03m# Catch JSON-related errors and raise as requests.JSONDecodeError\u001b[39;00m\n\u001b[32m    979\u001b[39m     \u001b[38;5;66;03m# This aliases json.JSONDecodeError and simplejson.JSONDecodeError\u001b[39;00m\n\u001b[32m--> \u001b[39m\u001b[32m980\u001b[39m     \u001b[38;5;28;01mraise\u001b[39;00m RequestsJSONDecodeError(e.msg, e.doc, e.pos)\n",
      "\u001b[31mJSONDecodeError\u001b[39m: Expecting value: line 1 column 1 (char 0)"
     ]
    }
   ],
   "source": [
    "rq.json()[0].keys()"
   ]
  },
  {
   "cell_type": "code",
   "execution_count": 161,
   "id": "97bf2c08-f469-4ad6-a781-97efdf874bb6",
   "metadata": {
    "scrolled": true
   },
   "outputs": [
    {
     "data": {
      "text/plain": [
       "[{'codigoEmenda': '202471050005',\n",
       "  'ano': 2024,\n",
       "  'tipoEmenda': 'Emenda de Bancada',\n",
       "  'autor': 'BANCADA DO AMAPA',\n",
       "  'nomeAutor': 'BANCADA DO AMAPA',\n",
       "  'numeroEmenda': '0005',\n",
       "  'localidadeDoGasto': 'AMAPÁ (UF)',\n",
       "  'funcao': 'Urbanismo',\n",
       "  'subfuncao': 'Assistência comunitária',\n",
       "  'valorEmpenhado': '2.550,00',\n",
       "  'valorLiquidado': '2.550,00',\n",
       "  'valorPago': '0,00',\n",
       "  'valorRestoInscrito': '0,00',\n",
       "  'valorRestoCancelado': '0,00',\n",
       "  'valorRestoPago': '0,00'},\n",
       " {'codigoEmenda': '202414680005',\n",
       "  'ano': 2024,\n",
       "  'tipoEmenda': 'Emenda Individual - Transferências com Finalidade Definida',\n",
       "  'autor': 'CHICO ALENCAR',\n",
       "  'nomeAutor': 'CHICO ALENCAR',\n",
       "  'numeroEmenda': '0005',\n",
       "  'localidadeDoGasto': 'RIO DE JANEIRO (UF)',\n",
       "  'funcao': 'Educação',\n",
       "  'subfuncao': 'Educação básica',\n",
       "  'valorEmpenhado': '3.612,60',\n",
       "  'valorLiquidado': '3.612,60',\n",
       "  'valorPago': '0,00',\n",
       "  'valorRestoInscrito': '0,00',\n",
       "  'valorRestoCancelado': '0,00',\n",
       "  'valorRestoPago': '0,00'},\n",
       " {'codigoEmenda': '202439910010',\n",
       "  'ano': 2024,\n",
       "  'tipoEmenda': 'Emenda Individual - Transferências com Finalidade Definida',\n",
       "  'autor': 'FRED COSTA',\n",
       "  'nomeAutor': 'FRED COSTA',\n",
       "  'numeroEmenda': '0010',\n",
       "  'localidadeDoGasto': 'MINAS GERAIS (UF)',\n",
       "  'funcao': 'Urbanismo',\n",
       "  'subfuncao': 'Assistência comunitária',\n",
       "  'valorEmpenhado': '3.637,09',\n",
       "  'valorLiquidado': '0,00',\n",
       "  'valorPago': '0,00',\n",
       "  'valorRestoInscrito': '0,00',\n",
       "  'valorRestoCancelado': '0,00',\n",
       "  'valorRestoPago': '0,00'},\n",
       " {'codigoEmenda': '202428850020',\n",
       "  'ano': 2024,\n",
       "  'tipoEmenda': 'Emenda Individual - Transferências com Finalidade Definida',\n",
       "  'autor': 'HUMBERTO COSTA',\n",
       "  'nomeAutor': 'HUMBERTO COSTA',\n",
       "  'numeroEmenda': '0020',\n",
       "  'localidadeDoGasto': 'PERNAMBUCO (UF)',\n",
       "  'funcao': 'Educação',\n",
       "  'subfuncao': 'Ensino profissional',\n",
       "  'valorEmpenhado': '3.860,00',\n",
       "  'valorLiquidado': '0,00',\n",
       "  'valorPago': '0,00',\n",
       "  'valorRestoInscrito': '0,00',\n",
       "  'valorRestoCancelado': '0,00',\n",
       "  'valorRestoPago': '0,00'},\n",
       " {'codigoEmenda': '202440330009',\n",
       "  'ano': 2024,\n",
       "  'tipoEmenda': 'Emenda Individual - Transferências com Finalidade Definida',\n",
       "  'autor': 'LUCAS REDECKER',\n",
       "  'nomeAutor': 'LUCAS REDECKER',\n",
       "  'numeroEmenda': '0009',\n",
       "  'localidadeDoGasto': 'Nacional',\n",
       "  'funcao': 'Defesa nacional',\n",
       "  'subfuncao': 'Defesa naval',\n",
       "  'valorEmpenhado': '4.700,00',\n",
       "  'valorLiquidado': '4.700,00',\n",
       "  'valorPago': '0,00',\n",
       "  'valorRestoInscrito': '0,00',\n",
       "  'valorRestoCancelado': '0,00',\n",
       "  'valorRestoPago': '0,00'},\n",
       " {'codigoEmenda': '202443660008',\n",
       "  'ano': 2024,\n",
       "  'tipoEmenda': 'Emenda Individual - Transferências com Finalidade Definida',\n",
       "  'autor': 'DUDA SALABERT',\n",
       "  'nomeAutor': 'DUDA SALABERT',\n",
       "  'numeroEmenda': '0008',\n",
       "  'localidadeDoGasto': 'MINAS GERAIS (UF)',\n",
       "  'funcao': 'Urbanismo',\n",
       "  'subfuncao': 'Assistência comunitária',\n",
       "  'valorEmpenhado': '6.061,82',\n",
       "  'valorLiquidado': '0,00',\n",
       "  'valorPago': '0,00',\n",
       "  'valorRestoInscrito': '0,00',\n",
       "  'valorRestoCancelado': '0,00',\n",
       "  'valorRestoPago': '0,00'},\n",
       " {'codigoEmenda': '202442700024',\n",
       "  'ano': 2024,\n",
       "  'tipoEmenda': 'Emenda Individual - Transferências com Finalidade Definida',\n",
       "  'autor': 'EFRAIM FILHO',\n",
       "  'nomeAutor': 'EFRAIM FILHO',\n",
       "  'numeroEmenda': '0024',\n",
       "  'localidadeDoGasto': 'JOÃO PESSOA - PB',\n",
       "  'funcao': 'Educação',\n",
       "  'subfuncao': 'Ensino superior',\n",
       "  'valorEmpenhado': '6.100,00',\n",
       "  'valorLiquidado': '6.100,00',\n",
       "  'valorPago': '0,00',\n",
       "  'valorRestoInscrito': '0,00',\n",
       "  'valorRestoCancelado': '0,00',\n",
       "  'valorRestoPago': '0,00'},\n",
       " {'codigoEmenda': '202433120014',\n",
       "  'ano': 2024,\n",
       "  'tipoEmenda': 'Emenda Individual - Transferências com Finalidade Definida',\n",
       "  'autor': 'HELDER SALOMAO',\n",
       "  'nomeAutor': 'HELDER SALOMAO',\n",
       "  'numeroEmenda': '0014',\n",
       "  'localidadeDoGasto': 'Nacional',\n",
       "  'funcao': 'Organização agrária',\n",
       "  'subfuncao': 'Reforma agrária',\n",
       "  'valorEmpenhado': '6.520,00',\n",
       "  'valorLiquidado': '5.756,03',\n",
       "  'valorPago': '4.486,03',\n",
       "  'valorRestoInscrito': '0,00',\n",
       "  'valorRestoCancelado': '0,00',\n",
       "  'valorRestoPago': '0,00'},\n",
       " {'codigoEmenda': '202443340015',\n",
       "  'ano': 2024,\n",
       "  'tipoEmenda': 'Emenda Individual - Transferências com Finalidade Definida',\n",
       "  'autor': 'DANDARA',\n",
       "  'nomeAutor': 'DANDARA',\n",
       "  'numeroEmenda': '0015',\n",
       "  'localidadeDoGasto': 'MINAS GERAIS (UF)',\n",
       "  'funcao': 'Urbanismo',\n",
       "  'subfuncao': 'Assistência comunitária',\n",
       "  'valorEmpenhado': '7.274,18',\n",
       "  'valorLiquidado': '0,00',\n",
       "  'valorPago': '0,00',\n",
       "  'valorRestoInscrito': '0,00',\n",
       "  'valorRestoCancelado': '0,00',\n",
       "  'valorRestoPago': '0,00'},\n",
       " {'codigoEmenda': '202443110019',\n",
       "  'ano': 2024,\n",
       "  'tipoEmenda': 'Emenda Individual - Transferências com Finalidade Definida',\n",
       "  'autor': 'BANDEIRA DE MELLO',\n",
       "  'nomeAutor': 'BANDEIRA DE MELLO',\n",
       "  'numeroEmenda': '0019',\n",
       "  'localidadeDoGasto': 'Nacional',\n",
       "  'funcao': 'Relações exteriores',\n",
       "  'subfuncao': 'Administração geral',\n",
       "  'valorEmpenhado': '7.400,00',\n",
       "  'valorLiquidado': '0,00',\n",
       "  'valorPago': '0,00',\n",
       "  'valorRestoInscrito': '0,00',\n",
       "  'valorRestoCancelado': '0,00',\n",
       "  'valorRestoPago': '0,00'},\n",
       " {'codigoEmenda': '202439600005',\n",
       "  'ano': 2024,\n",
       "  'tipoEmenda': 'Emenda Individual - Transferências com Finalidade Definida',\n",
       "  'autor': 'DR. FREDERICO',\n",
       "  'nomeAutor': 'DR. FREDERICO',\n",
       "  'numeroEmenda': '0005',\n",
       "  'localidadeDoGasto': 'MINAS GERAIS (UF)',\n",
       "  'funcao': 'Defesa nacional',\n",
       "  'subfuncao': 'Ensino profissional',\n",
       "  'valorEmpenhado': '8.628,00',\n",
       "  'valorLiquidado': '0,00',\n",
       "  'valorPago': '0,00',\n",
       "  'valorRestoInscrito': '0,00',\n",
       "  'valorRestoCancelado': '0,00',\n",
       "  'valorRestoPago': '0,00'},\n",
       " {'codigoEmenda': '202441520012',\n",
       "  'ano': 2024,\n",
       "  'tipoEmenda': 'Emenda Individual - Transferências com Finalidade Definida',\n",
       "  'autor': 'JORGE BRAZ',\n",
       "  'nomeAutor': 'JORGE BRAZ',\n",
       "  'numeroEmenda': '0012',\n",
       "  'localidadeDoGasto': 'Nacional',\n",
       "  'funcao': 'Defesa nacional',\n",
       "  'subfuncao': 'Defesa naval',\n",
       "  'valorEmpenhado': '8.689,56',\n",
       "  'valorLiquidado': '1.596,00',\n",
       "  'valorPago': '0,00',\n",
       "  'valorRestoInscrito': '0,00',\n",
       "  'valorRestoCancelado': '0,00',\n",
       "  'valorRestoPago': '0,00'},\n",
       " {'codigoEmenda': '202440340007',\n",
       "  'ano': 2024,\n",
       "  'tipoEmenda': 'Emenda Individual - Transferências com Finalidade Definida',\n",
       "  'autor': 'LUISA CANZIANI',\n",
       "  'nomeAutor': 'LUISA CANZIANI',\n",
       "  'numeroEmenda': '0007',\n",
       "  'localidadeDoGasto': 'PARANÁ (UF)',\n",
       "  'funcao': 'Saúde',\n",
       "  'subfuncao': 'Assistência hospitalar e ambulatorial',\n",
       "  'valorEmpenhado': '1,00',\n",
       "  'valorLiquidado': '1,00',\n",
       "  'valorPago': '1,00',\n",
       "  'valorRestoInscrito': '0,00',\n",
       "  'valorRestoCancelado': '0,00',\n",
       "  'valorRestoPago': '0,00'},\n",
       " {'codigoEmenda': '202442760011',\n",
       "  'ano': 2024,\n",
       "  'tipoEmenda': 'Emenda Individual - Transferências com Finalidade Definida',\n",
       "  'autor': 'ROGERIO MARINHO',\n",
       "  'nomeAutor': 'ROGERIO MARINHO',\n",
       "  'numeroEmenda': '0011',\n",
       "  'localidadeDoGasto': 'RIO GRANDE DO NORTE (UF)',\n",
       "  'funcao': 'Urbanismo',\n",
       "  'subfuncao': 'infra-estrutura urbana',\n",
       "  'valorEmpenhado': '10.650,00',\n",
       "  'valorLiquidado': '8.870,10',\n",
       "  'valorPago': '8.870,10',\n",
       "  'valorRestoInscrito': '0,00',\n",
       "  'valorRestoCancelado': '0,00',\n",
       "  'valorRestoPago': '0,00'},\n",
       " {'codigoEmenda': '202444550014',\n",
       "  'ano': 2024,\n",
       "  'tipoEmenda': 'Emenda Individual - Transferências com Finalidade Definida',\n",
       "  'autor': 'REGINETE BISPO',\n",
       "  'nomeAutor': 'REGINETE BISPO',\n",
       "  'numeroEmenda': '0014',\n",
       "  'localidadeDoGasto': 'RIO GRANDE DO SUL (UF)',\n",
       "  'funcao': 'Educação',\n",
       "  'subfuncao': 'Ensino profissional',\n",
       "  'valorEmpenhado': '10.900,00',\n",
       "  'valorLiquidado': '0,00',\n",
       "  'valorPago': '0,00',\n",
       "  'valorRestoInscrito': '0,00',\n",
       "  'valorRestoCancelado': '0,00',\n",
       "  'valorRestoPago': '0,00'}]"
      ]
     },
     "execution_count": 161,
     "metadata": {},
     "output_type": "execute_result"
    }
   ],
   "source": [
    "rq.json()"
   ]
  },
  {
   "cell_type": "markdown",
   "id": "67f96758-ed63-46b9-951c-7dee35346288",
   "metadata": {
    "jp-MarkdownHeadingCollapsed": true
   },
   "source": [
    "## Pipeline"
   ]
  },
  {
   "cell_type": "code",
   "execution_count": 4,
   "id": "c2f2e360-7b19-4444-a71b-da97b7ea0c32",
   "metadata": {},
   "outputs": [],
   "source": [
    "import time"
   ]
  },
  {
   "cell_type": "code",
   "execution_count": 13,
   "id": "93d397b1-992b-4850-9875-0f61b3d767f4",
   "metadata": {},
   "outputs": [],
   "source": [
    "from transformers import pipeline"
   ]
  },
  {
   "cell_type": "code",
   "execution_count": 14,
   "id": "98a138cf-12de-4b85-9580-a76f2a555a5e",
   "metadata": {},
   "outputs": [],
   "source": [
    "model_qwen = \"Qwen/Qwen3-1.7B\""
   ]
  },
  {
   "cell_type": "code",
   "execution_count": 15,
   "id": "16854980-f8da-43ea-a099-dcfd80648373",
   "metadata": {},
   "outputs": [
    {
     "data": {
      "application/vnd.jupyter.widget-view+json": {
       "model_id": "5ff3673e35cc4d47959e8fe45b5f13a6",
       "version_major": 2,
       "version_minor": 0
      },
      "text/plain": [
       "Loading checkpoint shards:   0%|          | 0/2 [00:00<?, ?it/s]"
      ]
     },
     "metadata": {},
     "output_type": "display_data"
    },
    {
     "name": "stderr",
     "output_type": "stream",
     "text": [
      "Device set to use cuda:0\n"
     ]
    },
    {
     "ename": "AcceleratorError",
     "evalue": "CUDA error: unspecified launch failure\nCUDA kernel errors might be asynchronously reported at some other API call, so the stacktrace below might be incorrect.\nFor debugging consider passing CUDA_LAUNCH_BLOCKING=1\nCompile with `TORCH_USE_CUDA_DSA` to enable device-side assertions.\n",
     "output_type": "error",
     "traceback": [
      "\u001b[31m---------------------------------------------------------------------------\u001b[39m",
      "\u001b[31mAcceleratorError\u001b[39m                          Traceback (most recent call last)",
      "\u001b[36mCell\u001b[39m\u001b[36m \u001b[39m\u001b[32mIn[15]\u001b[39m\u001b[32m, line 1\u001b[39m\n\u001b[32m----> \u001b[39m\u001b[32m1\u001b[39m qwen = \u001b[43mpipeline\u001b[49m\u001b[43m(\u001b[49m\u001b[33;43m\"\u001b[39;49m\u001b[33;43mtext-generation\u001b[39;49m\u001b[33;43m\"\u001b[39;49m\u001b[43m,\u001b[49m\u001b[43m \u001b[49m\u001b[43mmodel\u001b[49m\u001b[43m=\u001b[49m\u001b[43mmodel_qwen\u001b[49m\u001b[43m)\u001b[49m\n",
      "\u001b[36mFile \u001b[39m\u001b[32m~/miniforge3/envs/DataSc/lib/python3.13/site-packages/transformers/pipelines/__init__.py:1210\u001b[39m, in \u001b[36mpipeline\u001b[39m\u001b[34m(task, model, config, tokenizer, feature_extractor, image_processor, processor, framework, revision, use_fast, token, device, device_map, torch_dtype, trust_remote_code, model_kwargs, pipeline_class, **kwargs)\u001b[39m\n\u001b[32m   1207\u001b[39m \u001b[38;5;28;01mif\u001b[39;00m processor \u001b[38;5;129;01mis\u001b[39;00m \u001b[38;5;129;01mnot\u001b[39;00m \u001b[38;5;28;01mNone\u001b[39;00m:\n\u001b[32m   1208\u001b[39m     kwargs[\u001b[33m\"\u001b[39m\u001b[33mprocessor\u001b[39m\u001b[33m\"\u001b[39m] = processor\n\u001b[32m-> \u001b[39m\u001b[32m1210\u001b[39m \u001b[38;5;28;01mreturn\u001b[39;00m \u001b[43mpipeline_class\u001b[49m\u001b[43m(\u001b[49m\u001b[43mmodel\u001b[49m\u001b[43m=\u001b[49m\u001b[43mmodel\u001b[49m\u001b[43m,\u001b[49m\u001b[43m \u001b[49m\u001b[43mframework\u001b[49m\u001b[43m=\u001b[49m\u001b[43mframework\u001b[49m\u001b[43m,\u001b[49m\u001b[43m \u001b[49m\u001b[43mtask\u001b[49m\u001b[43m=\u001b[49m\u001b[43mtask\u001b[49m\u001b[43m,\u001b[49m\u001b[43m \u001b[49m\u001b[43m*\u001b[49m\u001b[43m*\u001b[49m\u001b[43mkwargs\u001b[49m\u001b[43m)\u001b[49m\n",
      "\u001b[36mFile \u001b[39m\u001b[32m~/miniforge3/envs/DataSc/lib/python3.13/site-packages/transformers/pipelines/text_generation.py:121\u001b[39m, in \u001b[36mTextGenerationPipeline.__init__\u001b[39m\u001b[34m(self, *args, **kwargs)\u001b[39m\n\u001b[32m    120\u001b[39m \u001b[38;5;28;01mdef\u001b[39;00m\u001b[38;5;250m \u001b[39m\u001b[34m__init__\u001b[39m(\u001b[38;5;28mself\u001b[39m, *args, **kwargs):\n\u001b[32m--> \u001b[39m\u001b[32m121\u001b[39m     \u001b[38;5;28;43msuper\u001b[39;49m\u001b[43m(\u001b[49m\u001b[43m)\u001b[49m\u001b[43m.\u001b[49m\u001b[34;43m__init__\u001b[39;49m\u001b[43m(\u001b[49m\u001b[43m*\u001b[49m\u001b[43margs\u001b[49m\u001b[43m,\u001b[49m\u001b[43m \u001b[49m\u001b[43m*\u001b[49m\u001b[43m*\u001b[49m\u001b[43mkwargs\u001b[49m\u001b[43m)\u001b[49m\n\u001b[32m    122\u001b[39m     \u001b[38;5;28mself\u001b[39m.check_model_type(\n\u001b[32m    123\u001b[39m         TF_MODEL_FOR_CAUSAL_LM_MAPPING_NAMES \u001b[38;5;28;01mif\u001b[39;00m \u001b[38;5;28mself\u001b[39m.framework == \u001b[33m\"\u001b[39m\u001b[33mtf\u001b[39m\u001b[33m\"\u001b[39m \u001b[38;5;28;01melse\u001b[39;00m MODEL_FOR_CAUSAL_LM_MAPPING_NAMES\n\u001b[32m    124\u001b[39m     )\n\u001b[32m    125\u001b[39m     \u001b[38;5;28;01mif\u001b[39;00m \u001b[33m\"\u001b[39m\u001b[33mprefix\u001b[39m\u001b[33m\"\u001b[39m \u001b[38;5;129;01mnot\u001b[39;00m \u001b[38;5;129;01min\u001b[39;00m \u001b[38;5;28mself\u001b[39m._preprocess_params:\n\u001b[32m    126\u001b[39m         \u001b[38;5;66;03m# This is very specific. The logic is quite complex and needs to be done\u001b[39;00m\n\u001b[32m    127\u001b[39m         \u001b[38;5;66;03m# as a \"default\".\u001b[39;00m\n\u001b[32m    128\u001b[39m         \u001b[38;5;66;03m# It also defines both some preprocess_kwargs and generate_kwargs\u001b[39;00m\n\u001b[32m    129\u001b[39m         \u001b[38;5;66;03m# which is why we cannot put them in their respective methods.\u001b[39;00m\n",
      "\u001b[36mFile \u001b[39m\u001b[32m~/miniforge3/envs/DataSc/lib/python3.13/site-packages/transformers/pipelines/base.py:1043\u001b[39m, in \u001b[36mPipeline.__init__\u001b[39m\u001b[34m(self, model, tokenizer, feature_extractor, image_processor, processor, modelcard, framework, task, args_parser, device, torch_dtype, binary_output, **kwargs)\u001b[39m\n\u001b[32m   1036\u001b[39m \u001b[38;5;66;03m# We shouldn't call `model.to()` for models loaded with accelerate as well as the case that model is already on device\u001b[39;00m\n\u001b[32m   1037\u001b[39m \u001b[38;5;28;01mif\u001b[39;00m (\n\u001b[32m   1038\u001b[39m     \u001b[38;5;28mself\u001b[39m.framework == \u001b[33m\"\u001b[39m\u001b[33mpt\u001b[39m\u001b[33m\"\u001b[39m\n\u001b[32m   1039\u001b[39m     \u001b[38;5;129;01mand\u001b[39;00m \u001b[38;5;28mself\u001b[39m.model.device != \u001b[38;5;28mself\u001b[39m.device\n\u001b[32m   1040\u001b[39m     \u001b[38;5;129;01mand\u001b[39;00m \u001b[38;5;129;01mnot\u001b[39;00m (\u001b[38;5;28misinstance\u001b[39m(\u001b[38;5;28mself\u001b[39m.device, \u001b[38;5;28mint\u001b[39m) \u001b[38;5;129;01mand\u001b[39;00m \u001b[38;5;28mself\u001b[39m.device < \u001b[32m0\u001b[39m)\n\u001b[32m   1041\u001b[39m     \u001b[38;5;129;01mand\u001b[39;00m hf_device_map \u001b[38;5;129;01mis\u001b[39;00m \u001b[38;5;28;01mNone\u001b[39;00m\n\u001b[32m   1042\u001b[39m ):\n\u001b[32m-> \u001b[39m\u001b[32m1043\u001b[39m     \u001b[38;5;28;43mself\u001b[39;49m\u001b[43m.\u001b[49m\u001b[43mmodel\u001b[49m\u001b[43m.\u001b[49m\u001b[43mto\u001b[49m\u001b[43m(\u001b[49m\u001b[38;5;28;43mself\u001b[39;49m\u001b[43m.\u001b[49m\u001b[43mdevice\u001b[49m\u001b[43m)\u001b[49m\n\u001b[32m   1045\u001b[39m \u001b[38;5;66;03m# If it's a generation pipeline and the model can generate:\u001b[39;00m\n\u001b[32m   1046\u001b[39m \u001b[38;5;66;03m# 1 - create a local generation config. This is done to avoid side-effects on the model as we apply local\u001b[39;00m\n\u001b[32m   1047\u001b[39m \u001b[38;5;66;03m# tweaks to the generation config.\u001b[39;00m\n\u001b[32m   1048\u001b[39m \u001b[38;5;66;03m# 2 - load the assistant model if it is passed.\u001b[39;00m\n\u001b[32m   1049\u001b[39m \u001b[38;5;28;01mif\u001b[39;00m \u001b[38;5;28mself\u001b[39m._pipeline_calls_generate \u001b[38;5;129;01mand\u001b[39;00m \u001b[38;5;28mself\u001b[39m.model.can_generate():\n",
      "\u001b[36mFile \u001b[39m\u001b[32m~/miniforge3/envs/DataSc/lib/python3.13/site-packages/transformers/modeling_utils.py:4346\u001b[39m, in \u001b[36mPreTrainedModel.to\u001b[39m\u001b[34m(self, *args, **kwargs)\u001b[39m\n\u001b[32m   4341\u001b[39m     \u001b[38;5;28;01mif\u001b[39;00m dtype_present_in_args:\n\u001b[32m   4342\u001b[39m         \u001b[38;5;28;01mraise\u001b[39;00m \u001b[38;5;167;01mValueError\u001b[39;00m(\n\u001b[32m   4343\u001b[39m             \u001b[33m\"\u001b[39m\u001b[33mYou cannot cast a GPTQ model in a new `dtype`. Make sure to load the model using `from_pretrained` using the desired\u001b[39m\u001b[33m\"\u001b[39m\n\u001b[32m   4344\u001b[39m             \u001b[33m\"\u001b[39m\u001b[33m `dtype` by passing the correct `torch_dtype` argument.\u001b[39m\u001b[33m\"\u001b[39m\n\u001b[32m   4345\u001b[39m         )\n\u001b[32m-> \u001b[39m\u001b[32m4346\u001b[39m \u001b[38;5;28;01mreturn\u001b[39;00m \u001b[38;5;28;43msuper\u001b[39;49m\u001b[43m(\u001b[49m\u001b[43m)\u001b[49m\u001b[43m.\u001b[49m\u001b[43mto\u001b[49m\u001b[43m(\u001b[49m\u001b[43m*\u001b[49m\u001b[43margs\u001b[49m\u001b[43m,\u001b[49m\u001b[43m \u001b[49m\u001b[43m*\u001b[49m\u001b[43m*\u001b[49m\u001b[43mkwargs\u001b[49m\u001b[43m)\u001b[49m\n",
      "\u001b[36mFile \u001b[39m\u001b[32m~/miniforge3/envs/DataSc/lib/python3.13/site-packages/torch/nn/modules/module.py:1369\u001b[39m, in \u001b[36mModule.to\u001b[39m\u001b[34m(self, *args, **kwargs)\u001b[39m\n\u001b[32m   1366\u001b[39m         \u001b[38;5;28;01melse\u001b[39;00m:\n\u001b[32m   1367\u001b[39m             \u001b[38;5;28;01mraise\u001b[39;00m\n\u001b[32m-> \u001b[39m\u001b[32m1369\u001b[39m \u001b[38;5;28;01mreturn\u001b[39;00m \u001b[38;5;28;43mself\u001b[39;49m\u001b[43m.\u001b[49m\u001b[43m_apply\u001b[49m\u001b[43m(\u001b[49m\u001b[43mconvert\u001b[49m\u001b[43m)\u001b[49m\n",
      "\u001b[36mFile \u001b[39m\u001b[32m~/miniforge3/envs/DataSc/lib/python3.13/site-packages/torch/nn/modules/module.py:928\u001b[39m, in \u001b[36mModule._apply\u001b[39m\u001b[34m(self, fn, recurse)\u001b[39m\n\u001b[32m    926\u001b[39m \u001b[38;5;28;01mif\u001b[39;00m recurse:\n\u001b[32m    927\u001b[39m     \u001b[38;5;28;01mfor\u001b[39;00m module \u001b[38;5;129;01min\u001b[39;00m \u001b[38;5;28mself\u001b[39m.children():\n\u001b[32m--> \u001b[39m\u001b[32m928\u001b[39m         \u001b[43mmodule\u001b[49m\u001b[43m.\u001b[49m\u001b[43m_apply\u001b[49m\u001b[43m(\u001b[49m\u001b[43mfn\u001b[49m\u001b[43m)\u001b[49m\n\u001b[32m    930\u001b[39m \u001b[38;5;28;01mdef\u001b[39;00m\u001b[38;5;250m \u001b[39m\u001b[34mcompute_should_use_set_data\u001b[39m(tensor, tensor_applied):\n\u001b[32m    931\u001b[39m     \u001b[38;5;28;01mif\u001b[39;00m torch._has_compatible_shallow_copy_type(tensor, tensor_applied):\n\u001b[32m    932\u001b[39m         \u001b[38;5;66;03m# If the new tensor has compatible tensor type as the existing tensor,\u001b[39;00m\n\u001b[32m    933\u001b[39m         \u001b[38;5;66;03m# the current behavior is to change the tensor in-place using `.data =`,\u001b[39;00m\n\u001b[32m   (...)\u001b[39m\u001b[32m    938\u001b[39m         \u001b[38;5;66;03m# global flag to let the user control whether they want the future\u001b[39;00m\n\u001b[32m    939\u001b[39m         \u001b[38;5;66;03m# behavior of overwriting the existing tensor or not.\u001b[39;00m\n",
      "\u001b[36mFile \u001b[39m\u001b[32m~/miniforge3/envs/DataSc/lib/python3.13/site-packages/torch/nn/modules/module.py:928\u001b[39m, in \u001b[36mModule._apply\u001b[39m\u001b[34m(self, fn, recurse)\u001b[39m\n\u001b[32m    926\u001b[39m \u001b[38;5;28;01mif\u001b[39;00m recurse:\n\u001b[32m    927\u001b[39m     \u001b[38;5;28;01mfor\u001b[39;00m module \u001b[38;5;129;01min\u001b[39;00m \u001b[38;5;28mself\u001b[39m.children():\n\u001b[32m--> \u001b[39m\u001b[32m928\u001b[39m         \u001b[43mmodule\u001b[49m\u001b[43m.\u001b[49m\u001b[43m_apply\u001b[49m\u001b[43m(\u001b[49m\u001b[43mfn\u001b[49m\u001b[43m)\u001b[49m\n\u001b[32m    930\u001b[39m \u001b[38;5;28;01mdef\u001b[39;00m\u001b[38;5;250m \u001b[39m\u001b[34mcompute_should_use_set_data\u001b[39m(tensor, tensor_applied):\n\u001b[32m    931\u001b[39m     \u001b[38;5;28;01mif\u001b[39;00m torch._has_compatible_shallow_copy_type(tensor, tensor_applied):\n\u001b[32m    932\u001b[39m         \u001b[38;5;66;03m# If the new tensor has compatible tensor type as the existing tensor,\u001b[39;00m\n\u001b[32m    933\u001b[39m         \u001b[38;5;66;03m# the current behavior is to change the tensor in-place using `.data =`,\u001b[39;00m\n\u001b[32m   (...)\u001b[39m\u001b[32m    938\u001b[39m         \u001b[38;5;66;03m# global flag to let the user control whether they want the future\u001b[39;00m\n\u001b[32m    939\u001b[39m         \u001b[38;5;66;03m# behavior of overwriting the existing tensor or not.\u001b[39;00m\n",
      "\u001b[36mFile \u001b[39m\u001b[32m~/miniforge3/envs/DataSc/lib/python3.13/site-packages/torch/nn/modules/module.py:955\u001b[39m, in \u001b[36mModule._apply\u001b[39m\u001b[34m(self, fn, recurse)\u001b[39m\n\u001b[32m    951\u001b[39m \u001b[38;5;66;03m# Tensors stored in modules are graph leaves, and we don't want to\u001b[39;00m\n\u001b[32m    952\u001b[39m \u001b[38;5;66;03m# track autograd history of `param_applied`, so we have to use\u001b[39;00m\n\u001b[32m    953\u001b[39m \u001b[38;5;66;03m# `with torch.no_grad():`\u001b[39;00m\n\u001b[32m    954\u001b[39m \u001b[38;5;28;01mwith\u001b[39;00m torch.no_grad():\n\u001b[32m--> \u001b[39m\u001b[32m955\u001b[39m     param_applied = \u001b[43mfn\u001b[49m\u001b[43m(\u001b[49m\u001b[43mparam\u001b[49m\u001b[43m)\u001b[49m\n\u001b[32m    956\u001b[39m p_should_use_set_data = compute_should_use_set_data(param, param_applied)\n\u001b[32m    958\u001b[39m \u001b[38;5;28;01mfrom\u001b[39;00m\u001b[38;5;250m \u001b[39m\u001b[34;01mtorch\u001b[39;00m\u001b[34;01m.\u001b[39;00m\u001b[34;01m_subclasses\u001b[39;00m\u001b[34;01m.\u001b[39;00m\u001b[34;01mfake_tensor\u001b[39;00m\u001b[38;5;250m \u001b[39m\u001b[38;5;28;01mimport\u001b[39;00m FakeTensor\n",
      "\u001b[36mFile \u001b[39m\u001b[32m~/miniforge3/envs/DataSc/lib/python3.13/site-packages/torch/nn/modules/module.py:1355\u001b[39m, in \u001b[36mModule.to.<locals>.convert\u001b[39m\u001b[34m(t)\u001b[39m\n\u001b[32m   1348\u001b[39m     \u001b[38;5;28;01mif\u001b[39;00m convert_to_format \u001b[38;5;129;01mis\u001b[39;00m \u001b[38;5;129;01mnot\u001b[39;00m \u001b[38;5;28;01mNone\u001b[39;00m \u001b[38;5;129;01mand\u001b[39;00m t.dim() \u001b[38;5;129;01min\u001b[39;00m (\u001b[32m4\u001b[39m, \u001b[32m5\u001b[39m):\n\u001b[32m   1349\u001b[39m         \u001b[38;5;28;01mreturn\u001b[39;00m t.to(\n\u001b[32m   1350\u001b[39m             device,\n\u001b[32m   1351\u001b[39m             dtype \u001b[38;5;28;01mif\u001b[39;00m t.is_floating_point() \u001b[38;5;129;01mor\u001b[39;00m t.is_complex() \u001b[38;5;28;01melse\u001b[39;00m \u001b[38;5;28;01mNone\u001b[39;00m,\n\u001b[32m   1352\u001b[39m             non_blocking,\n\u001b[32m   1353\u001b[39m             memory_format=convert_to_format,\n\u001b[32m   1354\u001b[39m         )\n\u001b[32m-> \u001b[39m\u001b[32m1355\u001b[39m     \u001b[38;5;28;01mreturn\u001b[39;00m \u001b[43mt\u001b[49m\u001b[43m.\u001b[49m\u001b[43mto\u001b[49m\u001b[43m(\u001b[49m\n\u001b[32m   1356\u001b[39m \u001b[43m        \u001b[49m\u001b[43mdevice\u001b[49m\u001b[43m,\u001b[49m\n\u001b[32m   1357\u001b[39m \u001b[43m        \u001b[49m\u001b[43mdtype\u001b[49m\u001b[43m \u001b[49m\u001b[38;5;28;43;01mif\u001b[39;49;00m\u001b[43m \u001b[49m\u001b[43mt\u001b[49m\u001b[43m.\u001b[49m\u001b[43mis_floating_point\u001b[49m\u001b[43m(\u001b[49m\u001b[43m)\u001b[49m\u001b[43m \u001b[49m\u001b[38;5;129;43;01mor\u001b[39;49;00m\u001b[43m \u001b[49m\u001b[43mt\u001b[49m\u001b[43m.\u001b[49m\u001b[43mis_complex\u001b[49m\u001b[43m(\u001b[49m\u001b[43m)\u001b[49m\u001b[43m \u001b[49m\u001b[38;5;28;43;01melse\u001b[39;49;00m\u001b[43m \u001b[49m\u001b[38;5;28;43;01mNone\u001b[39;49;00m\u001b[43m,\u001b[49m\n\u001b[32m   1358\u001b[39m \u001b[43m        \u001b[49m\u001b[43mnon_blocking\u001b[49m\u001b[43m,\u001b[49m\n\u001b[32m   1359\u001b[39m \u001b[43m    \u001b[49m\u001b[43m)\u001b[49m\n\u001b[32m   1360\u001b[39m \u001b[38;5;28;01mexcept\u001b[39;00m \u001b[38;5;167;01mNotImplementedError\u001b[39;00m \u001b[38;5;28;01mas\u001b[39;00m e:\n\u001b[32m   1361\u001b[39m     \u001b[38;5;28;01mif\u001b[39;00m \u001b[38;5;28mstr\u001b[39m(e) == \u001b[33m\"\u001b[39m\u001b[33mCannot copy out of meta tensor; no data!\u001b[39m\u001b[33m\"\u001b[39m:\n",
      "\u001b[31mAcceleratorError\u001b[39m: CUDA error: unspecified launch failure\nCUDA kernel errors might be asynchronously reported at some other API call, so the stacktrace below might be incorrect.\nFor debugging consider passing CUDA_LAUNCH_BLOCKING=1\nCompile with `TORCH_USE_CUDA_DSA` to enable device-side assertions.\n"
     ]
    }
   ],
   "source": [
    "qwen = pipeline(\"text-generation\", model=model_qwen)"
   ]
  },
  {
   "cell_type": "code",
   "execution_count": 16,
   "id": "56873bb2-7e48-4992-83e7-8ad166d6bf57",
   "metadata": {},
   "outputs": [
    {
     "ename": "AcceleratorError",
     "evalue": "CUDA error: unspecified launch failure\nCUDA kernel errors might be asynchronously reported at some other API call, so the stacktrace below might be incorrect.\nFor debugging consider passing CUDA_LAUNCH_BLOCKING=1\nCompile with `TORCH_USE_CUDA_DSA` to enable device-side assertions.\n",
     "output_type": "error",
     "traceback": [
      "\u001b[31m---------------------------------------------------------------------------\u001b[39m",
      "\u001b[31mAcceleratorError\u001b[39m                          Traceback (most recent call last)",
      "\u001b[36mCell\u001b[39m\u001b[36m \u001b[39m\u001b[32mIn[16]\u001b[39m\u001b[32m, line 3\u001b[39m\n\u001b[32m      1\u001b[39m \u001b[38;5;66;03m#timepassed = time.time()\u001b[39;00m\n\u001b[32m      2\u001b[39m \u001b[38;5;66;03m#print(timepassed)\u001b[39;00m\n\u001b[32m----> \u001b[39m\u001b[32m3\u001b[39m \u001b[43mqwen\u001b[49m\u001b[43m(\u001b[49m\u001b[33;43m\"\u001b[39;49m\u001b[33;43mQuero consultar os indices de IDH de BH?\u001b[39;49m\u001b[33;43m\"\u001b[39;49m\u001b[43m)\u001b[49m\n",
      "\u001b[36mFile \u001b[39m\u001b[32m~/miniforge3/envs/DataSc/lib/python3.13/site-packages/transformers/pipelines/text_generation.py:321\u001b[39m, in \u001b[36mTextGenerationPipeline.__call__\u001b[39m\u001b[34m(self, text_inputs, **kwargs)\u001b[39m\n\u001b[32m    319\u001b[39m             \u001b[38;5;28;01melse\u001b[39;00m:\n\u001b[32m    320\u001b[39m                 \u001b[38;5;28;01mreturn\u001b[39;00m \u001b[38;5;28msuper\u001b[39m().\u001b[34m__call__\u001b[39m(\u001b[38;5;28mlist\u001b[39m(chats), **kwargs)\n\u001b[32m--> \u001b[39m\u001b[32m321\u001b[39m \u001b[38;5;28;01mreturn\u001b[39;00m \u001b[38;5;28;43msuper\u001b[39;49m\u001b[43m(\u001b[49m\u001b[43m)\u001b[49m\u001b[43m.\u001b[49m\u001b[34;43m__call__\u001b[39;49m\u001b[43m(\u001b[49m\u001b[43mtext_inputs\u001b[49m\u001b[43m,\u001b[49m\u001b[43m \u001b[49m\u001b[43m*\u001b[49m\u001b[43m*\u001b[49m\u001b[43mkwargs\u001b[49m\u001b[43m)\u001b[49m\n",
      "\u001b[36mFile \u001b[39m\u001b[32m~/miniforge3/envs/DataSc/lib/python3.13/site-packages/transformers/pipelines/base.py:1458\u001b[39m, in \u001b[36mPipeline.__call__\u001b[39m\u001b[34m(self, inputs, num_workers, batch_size, *args, **kwargs)\u001b[39m\n\u001b[32m   1450\u001b[39m     \u001b[38;5;28;01mreturn\u001b[39;00m \u001b[38;5;28mnext\u001b[39m(\n\u001b[32m   1451\u001b[39m         \u001b[38;5;28miter\u001b[39m(\n\u001b[32m   1452\u001b[39m             \u001b[38;5;28mself\u001b[39m.get_iterator(\n\u001b[32m   (...)\u001b[39m\u001b[32m   1455\u001b[39m         )\n\u001b[32m   1456\u001b[39m     )\n\u001b[32m   1457\u001b[39m \u001b[38;5;28;01melse\u001b[39;00m:\n\u001b[32m-> \u001b[39m\u001b[32m1458\u001b[39m     \u001b[38;5;28;01mreturn\u001b[39;00m \u001b[38;5;28;43mself\u001b[39;49m\u001b[43m.\u001b[49m\u001b[43mrun_single\u001b[49m\u001b[43m(\u001b[49m\u001b[43minputs\u001b[49m\u001b[43m,\u001b[49m\u001b[43m \u001b[49m\u001b[43mpreprocess_params\u001b[49m\u001b[43m,\u001b[49m\u001b[43m \u001b[49m\u001b[43mforward_params\u001b[49m\u001b[43m,\u001b[49m\u001b[43m \u001b[49m\u001b[43mpostprocess_params\u001b[49m\u001b[43m)\u001b[49m\n",
      "\u001b[36mFile \u001b[39m\u001b[32m~/miniforge3/envs/DataSc/lib/python3.13/site-packages/transformers/pipelines/base.py:1465\u001b[39m, in \u001b[36mPipeline.run_single\u001b[39m\u001b[34m(self, inputs, preprocess_params, forward_params, postprocess_params)\u001b[39m\n\u001b[32m   1463\u001b[39m \u001b[38;5;28;01mdef\u001b[39;00m\u001b[38;5;250m \u001b[39m\u001b[34mrun_single\u001b[39m(\u001b[38;5;28mself\u001b[39m, inputs, preprocess_params, forward_params, postprocess_params):\n\u001b[32m   1464\u001b[39m     model_inputs = \u001b[38;5;28mself\u001b[39m.preprocess(inputs, **preprocess_params)\n\u001b[32m-> \u001b[39m\u001b[32m1465\u001b[39m     model_outputs = \u001b[38;5;28;43mself\u001b[39;49m\u001b[43m.\u001b[49m\u001b[43mforward\u001b[49m\u001b[43m(\u001b[49m\u001b[43mmodel_inputs\u001b[49m\u001b[43m,\u001b[49m\u001b[43m \u001b[49m\u001b[43m*\u001b[49m\u001b[43m*\u001b[49m\u001b[43mforward_params\u001b[49m\u001b[43m)\u001b[49m\n\u001b[32m   1466\u001b[39m     outputs = \u001b[38;5;28mself\u001b[39m.postprocess(model_outputs, **postprocess_params)\n\u001b[32m   1467\u001b[39m     \u001b[38;5;28;01mreturn\u001b[39;00m outputs\n",
      "\u001b[36mFile \u001b[39m\u001b[32m~/miniforge3/envs/DataSc/lib/python3.13/site-packages/transformers/pipelines/base.py:1364\u001b[39m, in \u001b[36mPipeline.forward\u001b[39m\u001b[34m(self, model_inputs, **forward_params)\u001b[39m\n\u001b[32m   1362\u001b[39m inference_context = \u001b[38;5;28mself\u001b[39m.get_inference_context()\n\u001b[32m   1363\u001b[39m \u001b[38;5;28;01mwith\u001b[39;00m inference_context():\n\u001b[32m-> \u001b[39m\u001b[32m1364\u001b[39m     model_inputs = \u001b[38;5;28;43mself\u001b[39;49m\u001b[43m.\u001b[49m\u001b[43m_ensure_tensor_on_device\u001b[49m\u001b[43m(\u001b[49m\u001b[43mmodel_inputs\u001b[49m\u001b[43m,\u001b[49m\u001b[43m \u001b[49m\u001b[43mdevice\u001b[49m\u001b[43m=\u001b[49m\u001b[38;5;28;43mself\u001b[39;49m\u001b[43m.\u001b[49m\u001b[43mdevice\u001b[49m\u001b[43m)\u001b[49m\n\u001b[32m   1365\u001b[39m     model_outputs = \u001b[38;5;28mself\u001b[39m._forward(model_inputs, **forward_params)\n\u001b[32m   1366\u001b[39m     model_outputs = \u001b[38;5;28mself\u001b[39m._ensure_tensor_on_device(model_outputs, device=torch.device(\u001b[33m\"\u001b[39m\u001b[33mcpu\u001b[39m\u001b[33m\"\u001b[39m))\n",
      "\u001b[36mFile \u001b[39m\u001b[32m~/miniforge3/envs/DataSc/lib/python3.13/site-packages/transformers/pipelines/base.py:1268\u001b[39m, in \u001b[36mPipeline._ensure_tensor_on_device\u001b[39m\u001b[34m(self, inputs, device)\u001b[39m\n\u001b[32m   1266\u001b[39m     \u001b[38;5;28;01mreturn\u001b[39;00m {name: \u001b[38;5;28mself\u001b[39m._ensure_tensor_on_device(tensor, device) \u001b[38;5;28;01mfor\u001b[39;00m name, tensor \u001b[38;5;129;01min\u001b[39;00m inputs.items()}\n\u001b[32m   1267\u001b[39m \u001b[38;5;28;01melif\u001b[39;00m \u001b[38;5;28misinstance\u001b[39m(inputs, UserDict):\n\u001b[32m-> \u001b[39m\u001b[32m1268\u001b[39m     \u001b[38;5;28;01mreturn\u001b[39;00m UserDict({name: \u001b[38;5;28;43mself\u001b[39;49m\u001b[43m.\u001b[49m\u001b[43m_ensure_tensor_on_device\u001b[49m\u001b[43m(\u001b[49m\u001b[43mtensor\u001b[49m\u001b[43m,\u001b[49m\u001b[43m \u001b[49m\u001b[43mdevice\u001b[49m\u001b[43m)\u001b[49m \u001b[38;5;28;01mfor\u001b[39;00m name, tensor \u001b[38;5;129;01min\u001b[39;00m inputs.items()})\n\u001b[32m   1269\u001b[39m \u001b[38;5;28;01melif\u001b[39;00m \u001b[38;5;28misinstance\u001b[39m(inputs, \u001b[38;5;28mlist\u001b[39m):\n\u001b[32m   1270\u001b[39m     \u001b[38;5;28;01mreturn\u001b[39;00m [\u001b[38;5;28mself\u001b[39m._ensure_tensor_on_device(item, device) \u001b[38;5;28;01mfor\u001b[39;00m item \u001b[38;5;129;01min\u001b[39;00m inputs]\n",
      "\u001b[36mFile \u001b[39m\u001b[32m~/miniforge3/envs/DataSc/lib/python3.13/site-packages/transformers/pipelines/base.py:1274\u001b[39m, in \u001b[36mPipeline._ensure_tensor_on_device\u001b[39m\u001b[34m(self, inputs, device)\u001b[39m\n\u001b[32m   1272\u001b[39m     \u001b[38;5;28;01mreturn\u001b[39;00m \u001b[38;5;28mtuple\u001b[39m([\u001b[38;5;28mself\u001b[39m._ensure_tensor_on_device(item, device) \u001b[38;5;28;01mfor\u001b[39;00m item \u001b[38;5;129;01min\u001b[39;00m inputs])\n\u001b[32m   1273\u001b[39m \u001b[38;5;28;01melif\u001b[39;00m \u001b[38;5;28misinstance\u001b[39m(inputs, torch.Tensor):\n\u001b[32m-> \u001b[39m\u001b[32m1274\u001b[39m     \u001b[38;5;28;01mreturn\u001b[39;00m \u001b[43minputs\u001b[49m\u001b[43m.\u001b[49m\u001b[43mto\u001b[49m\u001b[43m(\u001b[49m\u001b[43mdevice\u001b[49m\u001b[43m)\u001b[49m\n\u001b[32m   1275\u001b[39m \u001b[38;5;28;01melse\u001b[39;00m:\n\u001b[32m   1276\u001b[39m     \u001b[38;5;28;01mreturn\u001b[39;00m inputs\n",
      "\u001b[31mAcceleratorError\u001b[39m: CUDA error: unspecified launch failure\nCUDA kernel errors might be asynchronously reported at some other API call, so the stacktrace below might be incorrect.\nFor debugging consider passing CUDA_LAUNCH_BLOCKING=1\nCompile with `TORCH_USE_CUDA_DSA` to enable device-side assertions.\n"
     ]
    }
   ],
   "source": [
    "#timepassed = time.time()\n",
    "#print(timepassed)\n",
    "qwen(\"Quero consultar os indices de IDH de BH?\")"
   ]
  },
  {
   "cell_type": "markdown",
   "id": "e830f93c-9cce-45f5-89a0-abe687762581",
   "metadata": {
    "jp-MarkdownHeadingCollapsed": true
   },
   "source": [
    "## AutoTokenizer"
   ]
  },
  {
   "cell_type": "code",
   "execution_count": 17,
   "id": "ba8de574-84da-4c68-b65a-6f29485078b3",
   "metadata": {},
   "outputs": [],
   "source": [
    "from transformers import AutoTokenizer\n",
    "from transformers import AutoModel"
   ]
  },
  {
   "cell_type": "code",
   "execution_count": 15,
   "id": "a237080b-5e85-4df6-9114-b162ff5c0e85",
   "metadata": {},
   "outputs": [],
   "source": [
    "tokenizer = AutoTokenizer.from_pretrained(model_qwen)"
   ]
  },
  {
   "cell_type": "code",
   "execution_count": 16,
   "id": "b0ec3782-8145-4b3d-b09d-e52b27026fdd",
   "metadata": {},
   "outputs": [
    {
     "name": "stdout",
     "output_type": "stream",
     "text": [
      "{'input_ids': tensor([[    40,   3003,   1012,   8580,    369,    264,    472,  35268,  16281,\n",
      "           3308,    847,   4361,   2272,     13],\n",
      "        [    40,  12213,    419,    773,   1753,      0, 151643, 151643, 151643,\n",
      "         151643, 151643, 151643, 151643, 151643]]), 'attention_mask': tensor([[1, 1, 1, 1, 1, 1, 1, 1, 1, 1, 1, 1, 1, 1],\n",
      "        [1, 1, 1, 1, 1, 1, 0, 0, 0, 0, 0, 0, 0, 0]])}\n"
     ]
    }
   ],
   "source": [
    "raw_inputs = [\n",
    "    \"I've been waiting for a HuggingFace course my whole life.\",\n",
    "    \"I hate this so much!\",\n",
    "]\n",
    "inputs = tokenizer(raw_inputs, padding=True, truncation=True, return_tensors=\"pt\")\n",
    "print(inputs)"
   ]
  }
 ],
 "metadata": {
  "kernelspec": {
   "display_name": "Python 3 (ipykernel)",
   "language": "python",
   "name": "python3"
  },
  "language_info": {
   "codemirror_mode": {
    "name": "ipython",
    "version": 3
   },
   "file_extension": ".py",
   "mimetype": "text/x-python",
   "name": "python",
   "nbconvert_exporter": "python",
   "pygments_lexer": "ipython3",
   "version": "3.13.5"
  }
 },
 "nbformat": 4,
 "nbformat_minor": 5
}
