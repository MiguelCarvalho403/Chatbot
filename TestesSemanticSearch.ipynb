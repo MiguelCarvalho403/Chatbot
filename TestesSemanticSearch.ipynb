{
 "cells": [
  {
   "cell_type": "markdown",
   "id": "f4cdfeb0",
   "metadata": {},
   "source": [
    "# Semantic Search"
   ]
  },
  {
   "cell_type": "code",
   "execution_count": null,
   "id": "f2490ca5",
   "metadata": {},
   "outputs": [],
   "source": [
    "from qdrant_client import models, QdrantClient \n",
    "from sentence_transformers import SentenceTransformer"
   ]
  },
  {
   "cell_type": "markdown",
   "id": "107d3d23",
   "metadata": {},
   "source": [
    "## Langchain e Qdrant"
   ]
  },
  {
   "cell_type": "code",
   "execution_count": 21,
   "id": "15ef615d",
   "metadata": {},
   "outputs": [
    {
     "name": "stderr",
     "output_type": "stream",
     "text": [
      "/home/miguel/miniforge3/envs/DataScience/lib/python3.13/site-packages/tqdm/auto.py:21: TqdmWarning: IProgress not found. Please update jupyter and ipywidgets. See https://ipywidgets.readthedocs.io/en/stable/user_install.html\n",
      "  from .autonotebook import tqdm as notebook_tqdm\n"
     ]
    }
   ],
   "source": [
    "from langchain_huggingface import HuggingFaceEmbeddings"
   ]
  },
  {
   "cell_type": "code",
   "execution_count": 22,
   "id": "289f8d08",
   "metadata": {},
   "outputs": [],
   "source": [
    "matryoshka_dim = 1024\n",
    "\n",
    "embedd_model_name=\"Qwen/Qwen3-Embedding-0.6B\"\n",
    "\n",
    "model_kwargs = {\"device\": \"cpu\", 'truncate_dim':matryoshka_dim}\n",
    "encode_kwargs = {\"normalize_embeddings\": False} # \"prompt_name\": 'query'}\n",
    "\n",
    "# Conecta com LangChain\n",
    "embeddings = HuggingFaceEmbeddings(model_name=embedd_model_name, \n",
    "                                   model_kwargs=model_kwargs,\n",
    "                                   encode_kwargs=encode_kwargs)"
   ]
  },
  {
   "cell_type": "code",
   "execution_count": null,
   "id": "e6c9c908",
   "metadata": {},
   "outputs": [],
   "source": [
    "#ids_doc = vector_store_doc.add_documents(documents=documents)\n",
    "\n",
    "'''\n",
    "Transforma Documents em vetores e os armazena em uma vector store\n",
    "9990 documents demorou 33min\n",
    "\n",
    "\n",
    "Notas:\n",
    "\n",
    "    Falta colocar os metadados em Documents class para aprimorar a busca\n",
    "'''"
   ]
  },
  {
   "cell_type": "markdown",
   "id": "1c1beb49",
   "metadata": {},
   "source": [
    "#### Salva vector store em disco"
   ]
  },
  {
   "cell_type": "code",
   "execution_count": null,
   "id": "7a839567",
   "metadata": {},
   "outputs": [],
   "source": [
    "'''\n",
    "\n",
    "Salva vector store em documento\n",
    "\n",
    "'''\n",
    "#vector_store_doc.save_local(\"9990 catalogos\") "
   ]
  },
  {
   "cell_type": "markdown",
   "id": "bacd77f6",
   "metadata": {},
   "source": [
    "#### Carrega vector store de disco"
   ]
  },
  {
   "cell_type": "code",
   "execution_count": null,
   "id": "2f0fedbb",
   "metadata": {},
   "outputs": [],
   "source": [
    "#vector_store_doc.load_local(\"9990 catalogos\", embeddings,  allow_dangerous_deserialization=True) # Carrega vector store de documento"
   ]
  },
  {
   "cell_type": "markdown",
   "id": "bf6e8a0c",
   "metadata": {},
   "source": [
    "#### Testes"
   ]
  },
  {
   "cell_type": "code",
   "execution_count": null,
   "id": "ca633023",
   "metadata": {},
   "outputs": [],
   "source": [
    "documents"
   ]
  },
  {
   "cell_type": "code",
   "execution_count": null,
   "id": "987371f9",
   "metadata": {},
   "outputs": [],
   "source": [
    "def get_detailed_instruct(task_description: str, query: str) -> str:\n",
    "    return f'Instruct: {task_description}\\nQuery:{query}'\n",
    "\n",
    "# Each query must come with a one-sentence instruction that describes the task\n",
    "tasks = [['Dada uma consulta de pesquisa na web, recuperar trechos relevantes que respondam à consulta', \"Given a web search query, retrieve relevant passages that answer the query\"],\n",
    "        ['Dada uma consulta de pesquisa de catálogo, recuperar passagens relevantes que respondam à consulta', 'Given a catalog search query, retrieve relevant passages that answer the query']]\n",
    "\n",
    "task = tasks[0][0]\n",
    "\n",
    "queries = [\n",
    "    get_detailed_instruct(task, '\"Gostaria de obter dados do bolsa familia de 2025\"'),\n",
    "    get_detailed_instruct(task, \"Quero saber onde a há mais crimes no brasil\"),\n",
    "    get_detailed_instruct(task, \"quero dados sobre internação hospitalar no hospita julio muler\"),\n",
    "    get_detailed_instruct(task, \"quero saber onde mais chove no Rio de Janeiro\")\n",
    "]"
   ]
  },
  {
   "cell_type": "code",
   "execution_count": null,
   "id": "3a22bf52",
   "metadata": {},
   "outputs": [],
   "source": [
    "query = queries[0]\n",
    "\n",
    "results = vector_store_doc.similarity_search_with_score(\n",
    "    query, k=20)\n",
    "\n",
    "# Returns: List of documents most similar to the query text with L2 distance in float. Lower score represents more similarity\n",
    "\n",
    "print(query)\n",
    "print()\n",
    "\n",
    "for k in results:\n",
    "\n",
    "    print(k[0])\n",
    "    print(k[1])\n",
    "    print()\n",
    "\n",
    "'''\n",
    "Notas:\n",
    "\n",
    "    Alguns resultados performam melhor que a busca padrão do GOV, \n",
    "    lidando maior com ambiguidades e sinonimos. Entretanto em outros resultados\n",
    "    passa longe do esperado e em geral algumas respotas são um pouco fora de \n",
    "    contexto. \n",
    "\n",
    "    Necessário buscar um enriquecimento de como os dados foram representados\n",
    "    na fase de embedding como metadados, ids, descrições de cada catalogo, \n",
    "    adicionar metadados como ano, local.., tambem pode ser necessario um\n",
    "    modelo maior ou ajustar tamanho da dimensão dos vetores.\n",
    "\n",
    "    Outras tecnicas como matryoshka e podem ajudar a aumentar a acurácia\n",
    "    das buscas\n",
    "    https://huggingface.co/blog/matryoshka\n",
    "\n",
    "    Além disso temos full-text search e ReRanking que pode ajudar no desempenho também\n",
    "    \n",
    "    É interessante estudar sobre asymmetric semantic search, pois a query e \n",
    "    a base de dados podem ter tamanho bem diferentes ler em: \n",
    "    https://www.sbert.net/examples/sentence_transformer/applications/semantic-search/README.html\n",
    "\n",
    "'''"
   ]
  },
  {
   "cell_type": "markdown",
   "id": "b033d8d8",
   "metadata": {},
   "source": [
    "### Extração de metadados"
   ]
  },
  {
   "cell_type": "markdown",
   "id": "f8e7d40d",
   "metadata": {},
   "source": [
    "**Estrutura o metadado:** ['mes': str'(1-12)', 'ano': str, ]"
   ]
  },
  {
   "cell_type": "markdown",
   "id": "5fd62d62",
   "metadata": {},
   "source": [
    "#### sentenceTransformers"
   ]
  },
  {
   "cell_type": "code",
   "execution_count": null,
   "id": "a9a7c1f7",
   "metadata": {},
   "outputs": [],
   "source": [
    "meses = ['janeiro', 'fevereiro', 'março', 'abril', 'maio', 'junho',\n",
    "         'julho', 'agosto', 'setembro', 'outubro', 'novembro', 'dezembro']\n",
    "\n",
    "calendario = []\n",
    "\n",
    "for ano in range(2000, 2030):\n",
    "    for mes in meses:\n",
    "        calendario.append(f'{mes} de {ano}')\n",
    "\n",
    "calendario"
   ]
  },
  {
   "cell_type": "code",
   "execution_count": null,
   "id": "f08b0f3a",
   "metadata": {},
   "outputs": [],
   "source": [
    "vector1 = embeddings.embed_query(\"Quero dados de crimes em 2017\")\n",
    "vector2 = embeddings.embed_documents(calendario)\n",
    "\n",
    "# assert verifica a condição caso não seja verdadeira, retorna um erro\n",
    "assert len(vector1) == len(vector2[0]) # verifica se ambos vetores possuem a mesma dimensão, caso contrário, retorna um erro\n",
    "\n",
    "print(len(vector1))\n",
    "print(vector1[:10])\n",
    "\n",
    "print(len(vector2))\n",
    "print(vector2[:10])"
   ]
  },
  {
   "cell_type": "code",
   "execution_count": null,
   "id": "93b00e5e",
   "metadata": {},
   "outputs": [],
   "source": [
    "import numpy as np\n",
    "\n",
    "def cosine_similarity(vec1, vec2):\n",
    "    dot = np.dot(vec1, vec2)\n",
    "    return dot / (np.linalg.norm(vec1) * np.linalg.norm(vec2))\n",
    "\n",
    "query = embeddings.embed_query(\"Quero dados de crimes em 2017\")\n",
    "doc = embeddings.embed_documents(calendario)\n"
   ]
  },
  {
   "cell_type": "code",
   "execution_count": null,
   "id": "8b2b6b3b",
   "metadata": {},
   "outputs": [],
   "source": [
    "sim = []\n",
    "\n",
    "for vec in doc:\n",
    "    similarity = cosine_similarity(query, vec)\n",
    "    sim.append(similarity)\n",
    "    print(\"Cosine Similarity:\", similarity)\n",
    "\n",
    "'''\n",
    "Permite verificar similaridade entre vetores\n",
    "permite armazenar vetores temporiariamente em cache para evitar recomputar\n",
    "\n",
    "https://docs.langchain.com/oss/python/integrations/text_embedding/index#huggingface\n",
    "\n",
    "'''\n"
   ]
  },
  {
   "cell_type": "markdown",
   "id": "b8b6cbcc",
   "metadata": {},
   "source": [
    "#### faiss e LangChain"
   ]
  },
  {
   "cell_type": "code",
   "execution_count": null,
   "id": "3e750ae5",
   "metadata": {},
   "outputs": [],
   "source": [
    "meses = ['', 'janeiro', 'fevereiro', 'março', 'abril', 'maio', 'junho',\n",
    "         'julho', 'agosto', 'setembro', 'outubro', 'novembro', 'dezembro']\n",
    "\n",
    "calendario = []\n",
    "\n",
    "for ano in range(2000, 2030):\n",
    "    for mes in range(13):\n",
    "        calendario.append(f'{mes}/{ano}')\n",
    "\n",
    "calendario"
   ]
  },
  {
   "cell_type": "code",
   "execution_count": null,
   "id": "dcdf1cbb",
   "metadata": {},
   "outputs": [],
   "source": [
    "embedding_dim = len(embeddings.embed_query(\"Data de ano tal\")) # dimensão do vetor de embedding\n",
    "index = faiss.IndexFlatL2(embedding_dim) # L2 é a distância euclidiana\n",
    "\n",
    "vector_store_met = FAISS(embedding_function=embeddings, \n",
    "                     index=index, \n",
    "                     docstore=InMemoryDocstore({}), \n",
    "                     index_to_docstore_id={}) # cria objeto vectorstore"
   ]
  },
  {
   "cell_type": "code",
   "execution_count": null,
   "id": "a1722107",
   "metadata": {},
   "outputs": [],
   "source": [
    "from langchain_core.documents import Document"
   ]
  },
  {
   "cell_type": "code",
   "execution_count": null,
   "id": "307370dc",
   "metadata": {},
   "outputs": [],
   "source": [
    "meta = []\n",
    "for k in calendario:\n",
    "\n",
    "    meta.append(Document(page_content=k, metadata={}))"
   ]
  },
  {
   "cell_type": "code",
   "execution_count": null,
   "id": "be898e21",
   "metadata": {},
   "outputs": [],
   "source": [
    "ids_met = vector_store_met.add_documents(documents=meta)"
   ]
  },
  {
   "cell_type": "code",
   "execution_count": null,
   "id": "bb9cf339",
   "metadata": {},
   "outputs": [],
   "source": [
    "result = vector_store_met.similarity_search_with_score(\n",
    "    \"2017\", k=20)"
   ]
  },
  {
   "cell_type": "code",
   "execution_count": null,
   "id": "5ad551ab",
   "metadata": {},
   "outputs": [],
   "source": [
    "print(result)"
   ]
  }
 ],
 "metadata": {
  "kernelspec": {
   "display_name": "DataScience",
   "language": "python",
   "name": "python3"
  },
  "language_info": {
   "codemirror_mode": {
    "name": "ipython",
    "version": 3
   },
   "file_extension": ".py",
   "mimetype": "text/x-python",
   "name": "python",
   "nbconvert_exporter": "python",
   "pygments_lexer": "ipython3",
   "version": "3.13.7"
  }
 },
 "nbformat": 4,
 "nbformat_minor": 5
}
